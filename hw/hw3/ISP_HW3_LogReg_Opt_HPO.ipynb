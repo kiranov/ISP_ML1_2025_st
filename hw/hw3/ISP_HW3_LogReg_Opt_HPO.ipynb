{
 "cells": [
  {
   "cell_type": "markdown",
   "metadata": {
    "id": "ARflQfMOjvOy"
   },
   "source": [
    "# HW3: Логистическая регрессия, оптимизация, подбор гиперпараметров.\n",
    "\n",
    "## Ф.И.О: _________\n",
    "\n",
    "По вопросам в задании писать в беседу курса или в лс (tg: @Skorik_S)"
   ]
  },
  {
   "cell_type": "markdown",
   "metadata": {
    "id": "CL2ajee_jwKt"
   },
   "source": [
    "## Задание 1: Теоретическая часть"
   ]
  },
  {
   "cell_type": "markdown",
   "metadata": {
    "id": "NjkjM-JUkRs2"
   },
   "source": [
    "Постановка задачи логистической регрессии:\n",
    "$$\n",
    "    \\mathcal{L}(\\theta, X, y) = \\dfrac{1}{N}\\sum_{i=1}^N\\log(1 + e^{-y_i\\langle\\theta, x_i\\rangle}) → \\min_{θ \\in \\mathbb{R}^d}, \\tag{1}\n",
    "$$\n",
    "\n",
    "в которой\n",
    "\n",
    "\n",
    "1.   $θ \\in \\mathbb{R}^d$ -- вектор параметров модели.\n",
    "2.   $(x_i, y_i)$ -- обучающая пара. В данной постановке $y = \\{-1, 1\\}$.\n",
    "\n"
   ]
  },
  {
   "cell_type": "markdown",
   "metadata": {
    "id": "KKltHJ5HkqJf"
   },
   "source": [
    "### Задача 0 (0.5 баллов)\n",
    "\n",
    "1. *Получите постановку логистической регрессии, используя принцип максимума правдоподобия в предположении $y = \\{0, 1\\}$.*\n",
    "2. Проверьте, что если метки классов $y = \\{-1, 1\\}$, то полученная постановка примет вид (1).\n",
    "---"
   ]
  },
  {
   "cell_type": "markdown",
   "metadata": {
    "id": "GAI59sg-nGWk"
   },
   "source": [
    "#### Ваше решение:\n",
    "\n",
    "---"
   ]
  },
  {
   "cell_type": "markdown",
   "metadata": {
    "id": "PHT3q7rpnjzg"
   },
   "source": [
    "### Задача 1 (2 балла)\n",
    "\n",
    "1. Покажите, что градиент функции потерь равен:\n",
    "\n",
    "$$\\nabla \\mathcal{L}(\\theta, X, y) = - \\dfrac{1}{N}\\sum_{i=1}^N \\dfrac{y_i x_{i}e^{-y_i\\langle\\theta, x_i\\rangle}}{1 + e^{-y_i\\langle\\theta, x_i\\rangle}} $$\n",
    "\n",
    "2. Покажите, что гессиан функции потерь равен:\n",
    "\n",
    "$$ \\nabla^2 \\mathcal{L}(\\theta, X, y) = \\dfrac{1}{N}X^\\top D X, \\tag{2}$$\n",
    "где $D$ -- диагональная матрица с элементами $\\sigma(-y_i\\langle\\theta, x_i\\rangle)(1 - \\sigma(-y_i\\langle\\theta, x_i\\rangle))$, где $\\sigma(\\cdot)$ -- функция сигмоиды\n",
    "\n",
    "---"
   ]
  },
  {
   "cell_type": "markdown",
   "metadata": {
    "id": "wjvThwxIrBNu"
   },
   "source": [
    "#### Ваше решение:\n",
    "\n",
    "---"
   ]
  },
  {
   "cell_type": "markdown",
   "metadata": {
    "id": "gKdkPBXkrJZl"
   },
   "source": [
    "### Задача 2* (1 балл)\n",
    "\n",
    "1. Покажите что в выражении (2) $\\nabla^2\\mathcal{L} \\succeq 0$. Что это говорит об $\\mathcal{L}$ и её экстремумах?\n",
    "\n",
    "2. В каких случаях в выражении (2) $\\nabla^2\\mathcal{L} \\succ 0$? Что в этом случае мы можем сказать о глобальном минимуме? Всегда ли он существует? Ответ обоснуйте.\n",
    "\n",
    "---"
   ]
  },
  {
   "cell_type": "markdown",
   "metadata": {
    "id": "NgUTAnj9uo8k"
   },
   "source": [
    "#### Ваше решение:*\n",
    "\n",
    "---"
   ]
  },
  {
   "cell_type": "markdown",
   "metadata": {
    "id": "q6hcZeccu5gx"
   },
   "source": [
    "Регуляризируем исходную задачу:\n",
    "$$\n",
    "\\mathcal{L}(\\theta, X, y) = -\\dfrac{1}{N}\\sum_{i=1}^N\\log(1 + e^{-y_i\\langle\\theta, x_i\\rangle}) + \\dfrac{\\lambda}{2}\\|\\theta\\|^2 → \\min_{θ \\in \\mathbb{R}^d}, \\tag{3}\n",
    "$$\n",
    "здесь $\\lambda > 0$ -- параметр регуляризации. Задача (3) представляет собой *минимизацию эмпирического риска*"
   ]
  },
  {
   "cell_type": "markdown",
   "metadata": {
    "id": "OcwZvjiUvTUI"
   },
   "source": [
    "### Задача 3 (2 балла)\n",
    "\n",
    "1. Покажите, что задача (3) L-гладкая с константой $$L = \\dfrac{1}{4N}\\lambda_{max}(XX^\\top) + \\lambda \\tag{4}.$$\n",
    "\n",
    "2. Покажите, что задача (3) $\\mu$-сильно-выпуклая с константой $\\mu = λ$.\n",
    "\n",
    "Для доказательства п.1 и п.2 воспользуйтесь тем, что $L = \\lambda_{max}(\\nabla^2 \\mathcal{L}(\\theta, X, y))$ и $\\mu = \\lambda_{min}(\\nabla^2 \\mathcal{L}(\\theta, X, y))$, где $\\lambda_{max}(\\cdot)$ и $\\lambda_{min}(\\cdot)$ -- максимальное и минимальное собственное значение матрицы.\n",
    "\n",
    "---"
   ]
  },
  {
   "cell_type": "markdown",
   "metadata": {
    "id": "1iVXRU5dx4q_"
   },
   "source": [
    "#### Ваше решение:\n",
    "\n",
    "---"
   ]
  },
  {
   "cell_type": "markdown",
   "metadata": {
    "id": "WhrzatRYxt3o"
   },
   "source": [
    "### Задача 4* (1 балл)\n",
    "\n",
    "1. Всегда ли существует глобальный минимум задачи (3)? Ответ обоснуйте.\n",
    "\n",
    "---"
   ]
  },
  {
   "cell_type": "markdown",
   "metadata": {
    "id": "c9sBZuKsx_w-"
   },
   "source": [
    "#### Ваше решение:*\n",
    "\n",
    "---"
   ]
  },
  {
   "cell_type": "markdown",
   "metadata": {
    "id": "bPBN7OHsyRL4"
   },
   "source": [
    "## Задание 2: Сравнение алгоритмов оптимизации"
   ]
  },
  {
   "cell_type": "markdown",
   "metadata": {
    "id": "mBYD-dOj4lky"
   },
   "source": [
    "Для практической части мы пользуемся библиотекой `numpy`: [документация](https://numpy.org/doc/)\n",
    "\n",
    "Не пользуйтесь другими библиотеками (`torch`, `jax` итп)"
   ]
  },
  {
   "cell_type": "code",
   "execution_count": null,
   "metadata": {
    "id": "fBjt8pKJ4kr6"
   },
   "outputs": [],
   "source": [
    "from typing import Callable\n",
    "import time\n",
    "from functools import partial\n",
    "from tqdm import tqdm\n",
    "from sklearn.datasets import load_svmlight_file\n",
    "from sklearn.model_selection import train_test_split\n",
    "import numpy as np\n",
    "import matplotlib.pyplot as plt\n",
    "import requests"
   ]
  },
  {
   "cell_type": "markdown",
   "metadata": {
    "id": "3m9kE8FIzRDt"
   },
   "source": [
    "Подготовим данные"
   ]
  },
  {
   "cell_type": "code",
   "execution_count": null,
   "metadata": {
    "id": "9JgOPbsGa3JQ"
   },
   "outputs": [],
   "source": [
    "url = 'https://drive.google.com/file/d/1lgwawQxGD_6XruWbquMH6W2yKPVQ5kdi'\n",
    "filename = 'mushrooms.txt'\n",
    "\n",
    "response = requests.get(url)\n",
    "with open(filename, 'wb') as file:\n",
    "    file.write(response.content)"
   ]
  },
  {
   "cell_type": "code",
   "execution_count": null,
   "metadata": {
    "id": "4BPAxSHOjrln"
   },
   "outputs": [],
   "source": [
    "data = load_svmlight_file(filename)\n",
    "mushrooms_x, mushrooms_y = data[0].toarray(), data[1]\n",
    "# сделаем y -1 или 1\n",
    "mushrooms_y = 2 * mushrooms_y - 3"
   ]
  },
  {
   "cell_type": "markdown",
   "metadata": {
    "id": "6uedHsQizSvD"
   },
   "source": [
    "Разделим данные на train/test\n",
    "\n",
    "**Важно:** не меняйте код ниже. random_state зафиксирован для воспроизводимости."
   ]
  },
  {
   "cell_type": "code",
   "execution_count": null,
   "metadata": {
    "id": "eEcyFi4JzMje"
   },
   "outputs": [],
   "source": [
    "train_mush_x, test_mush_x, train_mush_y, test_mush_y = train_test_split(\n",
    "    mushrooms_x, mushrooms_y, test_size=0.2, random_state=42\n",
    ")\n",
    "\n",
    "print(f\"{train_mush_x.shape=}\")\n",
    "print(f\"{train_mush_y.shape=}\")"
   ]
  },
  {
   "cell_type": "markdown",
   "metadata": {
    "id": "Uuv5ECkD12xA"
   },
   "source": [
    "### Задача 0 (1 балл)\n",
    "\n",
    "Найдите константу гладкости $L$ согласно (4) на практике для `train_mush_x`.\n",
    "\n",
    "---"
   ]
  },
  {
   "cell_type": "code",
   "execution_count": null,
   "metadata": {
    "id": "dYhzDfRJ4XfM"
   },
   "outputs": [],
   "source": [
    "def get_lipschitz(x_values: np.ndarray) -> float:\n",
    "    # YOUR CODE HERE:\n",
    "    ###########################\n",
    "    ### ╰( ͡° ͜ʖ ͡° )つ──☆*:・ﾟ\n",
    "    ###########################\n",
    "    return L"
   ]
  },
  {
   "cell_type": "code",
   "execution_count": null,
   "metadata": {
    "id": "gxzdc2DD62sx"
   },
   "outputs": [],
   "source": [
    "def assert_lipschitz(get_lipschitz: Callable) -> None:\n",
    "    true_lipschitz = 2.5872260889612666\n",
    "    your_lipschitz = get_lipschitz(train_mush_x)\n",
    "    assert np.allclose(true_lipschitz, your_lipschitz, atol=1e-6), \"Failed on get_lipschitz(train_mush_x)\"\n",
    "    print(\"Success!!!\")\n",
    "\n",
    "assert_lipschitz(get_lipschitz)"
   ]
  },
  {
   "cell_type": "code",
   "execution_count": null,
   "metadata": {
    "id": "FoczymOJ6T8Y"
   },
   "outputs": [],
   "source": [
    "lipschitz_mush = get_lipschitz(train_mush_x)\n",
    "lambda_mush = lipschitz_mush / 1000"
   ]
  },
  {
   "cell_type": "markdown",
   "metadata": {
    "id": "mWVvolVY8UYx"
   },
   "source": [
    "### Задача 1 (1 балл)\n",
    "\n",
    "Реализуйте посчет значения, градиента и гессиана целевой функции (3)."
   ]
  },
  {
   "cell_type": "code",
   "execution_count": null,
   "metadata": {
    "id": "RcOupYI59EKI"
   },
   "outputs": [],
   "source": [
    "def mush_exp(x: np.ndarray, y: np.ndarray, w: np.ndarray) -> float:\n",
    "    # TODO: Calculate exp(-y * <w,x>)\n",
    "    # YOUR CODE HERE:\n",
    "    ###########################\n",
    "    ### ╰( ͡° ͜ʖ ͡° )つ──☆*:・ﾟ\n",
    "    ###########################\n",
    "    pass\n",
    "\n",
    "\n",
    "def mush_f(\n",
    "    w: np.ndarray, x: np.ndarray = train_mush_x, y: np.ndarray = train_mush_y\n",
    ") -> float:\n",
    "    # TODO: Calculate loss function\n",
    "    # YOUR CODE HERE:\n",
    "    ###########################\n",
    "    ### ╰( ͡° ͜ʖ ͡° )つ──☆*:・ﾟ\n",
    "    ###########################\n",
    "    pass\n",
    "\n",
    "\n",
    "def mush_grad(\n",
    "    w: np.ndarray, x: np.ndarray = train_mush_x, y: np.ndarray = train_mush_y\n",
    ") -> np.ndarray:\n",
    "    # TODO: Calculate gradient of loss function\n",
    "    # YOUR CODE HERE:\n",
    "    ###########################\n",
    "    ### ╰( ͡° ͜ʖ ͡° )つ──☆*:・ﾟ\n",
    "    ###########################\n",
    "    pass\n",
    "\n",
    "\n",
    "def mush_hess(\n",
    "    w: np.ndarray, x: np.ndarray = train_mush_x, y: np.ndarray = train_mush_y\n",
    ") -> np.ndarray:\n",
    "    # TODO: Calculate hessian of loss function\n",
    "    # YOUR CODE HERE:\n",
    "    ###########################\n",
    "    ### ╰( ͡° ͜ʖ ͡° )つ──☆*:・ﾟ\n",
    "    ###########################\n",
    "    pass\n",
    "\n",
    "\n",
    "def mush_accuracy(\n",
    "    w: np.ndarray, x: np.ndarray = test_mush_x, y: np.ndarray = test_mush_y\n",
    ") -> float:\n",
    "    if len(x) == 0:\n",
    "        return 0\n",
    "    return np.mean((np.sign(x @ w) == y))"
   ]
  },
  {
   "cell_type": "markdown",
   "metadata": {
    "id": "npkwCrr2AauS"
   },
   "source": []
  },
  {
   "cell_type": "code",
   "execution_count": null,
   "metadata": {
    "id": "KhK_wbvIUEpf"
   },
   "outputs": [],
   "source": [
    "def assert_mush(mush_f: Callable, mush_grad: Callable, mush_hess: Callable):\n",
    "    w = np.zeros(train_mush_x[0].shape[0])\n",
    "    assert np.allclose(mush_f(w), 0.6931471805599453, atol=1e-6), \"Failed on mush_f(w) for w=0\"\n",
    "    assert np.allclose(mush_grad(w).sum(), -0.3732112632712724, atol=1e-6), \"Failed on mush_grad(w) for w=0\"\n",
    "    assert np.allclose(mush_hess(w).sum(), 110.53976932196366, atol=1e-6), \"Failed on mush_hess(w) for w=0\"\n",
    "\n",
    "    w = np.ones(train_mush_x[0].shape[0])\n",
    "    assert np.allclose(mush_f(w), 10.271673398468815, atol=1e-6), \"Failed on mush_f(w) for w=1\"\n",
    "    assert np.allclose(mush_grad(w).sum(), 10.416558042769106, atol=1e-6), \"Failed on mush_grad(w) for w=1\"\n",
    "    assert np.allclose(mush_hess(w).sum(), 0.2897696563545762, atol=1e-6), \"Failed on mush_hess(w) for w=1\"\n",
    "    print(\"Success!!!\")\n",
    "\n",
    "assert_mush(mush_f, mush_grad, mush_hess)"
   ]
  },
  {
   "cell_type": "markdown",
   "metadata": {
    "id": "mjeSrvDyVN2L"
   },
   "source": [
    "### Задача 2 (2 балла)\n",
    "\n",
    "Рассмотрим и реализуем метод градиентного спуска (Gradient Descent)\n",
    "\n",
    "$$\n",
    "\\begin{equation*}\n",
    "w_{k+1} = w_k - \\gamma_k \\nabla \\mathcal{L}(w_k)\n",
    "\\end{equation*}\n",
    "$$"
   ]
  },
  {
   "cell_type": "code",
   "execution_count": null,
   "metadata": {
    "id": "SRp8YzFCVyrH"
   },
   "outputs": [],
   "source": [
    "# Фиксируем рандомизацию для воспроизводимости\n",
    "seed = 42\n",
    "np.random.seed(seed)\n",
    "start_w_mush = np.random.randn(train_mush_x.shape[1])"
   ]
  },
  {
   "cell_type": "code",
   "execution_count": null,
   "metadata": {
    "id": "J9ruQYKoWK-Q"
   },
   "outputs": [],
   "source": [
    "# Базовый класс оптимизатора\n",
    "class ManualSolver:\n",
    "    def __init__(\n",
    "        self,\n",
    "        lr: float | Callable, # Скорость обучения\n",
    "        name: str, # Название оптимизатора (для логгирования)\n",
    "        first_order: bool, # Использует ли оптимизатор grad_f\n",
    "        second_order: bool, # Использует ли оптимизатор hess_f\n",
    "    ) -> None:\n",
    "        super().__init__()\n",
    "        self.name = name\n",
    "        self.lr = lr if isinstance(lr, Callable) else lambda _: lr\n",
    "        self.first_order = first_order\n",
    "        self.second_order = second_order\n",
    "\n",
    "    def step(self, w: np.ndarray, k: int, grad_f: np.ndarray, hess_f: np.ndarray) -> np.ndarray:\n",
    "        # эту функцию должны переопределить наследуемые классы\n",
    "        raise NotImplementedError"
   ]
  },
  {
   "cell_type": "markdown",
   "metadata": {
    "id": "z41aYstwXY8G"
   },
   "source": [
    "#### Задача 2.1\n",
    "\n",
    "Реализуйте шаг обучения и тестирования.\n",
    "\n",
    "**Важно:** критерием сходимости является отношение $\\frac{\\| \\nabla f(w^k) \\|}{\\| \\nabla f(w^0) \\|}$ на **обучающей** выборке. В связи с этим, подсчет `grad_norm`$=\\| \\nabla f(w^k) \\|$ необходимо производить на обучающей выборке `train_mush_x`.\n",
    "\n",
    "Подсчет точности и лосса в `eval_optimizer_step` проводятся на тестовой выборке."
   ]
  },
  {
   "cell_type": "code",
   "execution_count": null,
   "metadata": {
    "id": "4hhKqSj_WSTB"
   },
   "outputs": [],
   "source": [
    "def train_optimizer_step(\n",
    "    optimizer: ManualSolver,\n",
    "    w: np.ndarray,\n",
    "    iter_num: int,\n",
    "    x: np.ndarray = train_mush_x,\n",
    "    y: np.ndarray = train_mush_y\n",
    ") -> np.ndarray:\n",
    "    # TODO: implement train_step pipeline;\n",
    "    # OUTPUT: Updated training weights\n",
    "    # YOUR CODE HERE:\n",
    "    ###########################\n",
    "    ### ╰( ͡° ͜ʖ ͡° )つ──☆*:・ﾟ\n",
    "    ###########################\n",
    "    return updated_w"
   ]
  },
  {
   "cell_type": "code",
   "execution_count": null,
   "metadata": {
    "id": "B6WulanEWzq7"
   },
   "outputs": [],
   "source": [
    "def eval_optimizer_step(\n",
    "    w: np.ndarray,\n",
    "    x: np.ndarray = test_mush_x,\n",
    "    y: np.ndarray = test_mush_y\n",
    ") -> list[float, float, float]:\n",
    "    # TODO: implement eval pipeline;\n",
    "    # OUTPUT: [grad_norm, accuracy, val_loss]\n",
    "    # You need to calculate `grad_norm` on train_mush_x!!\n",
    "    # YOUR CODE HERE:\n",
    "    ###########################\n",
    "    ### ╰( ͡° ͜ʖ ͡° )つ──☆*:・ﾟ\n",
    "    ###########################\n",
    "    train_mush_x = train_mush_x # here is a global variable\n",
    "    train_mush_y = train_mush_y\n",
    "    return [grad_norm, accuracy, val_loss]"
   ]
  },
  {
   "cell_type": "code",
   "execution_count": null,
   "metadata": {
    "id": "gS2nuIcNY3Hb"
   },
   "outputs": [],
   "source": [
    "def test_optimizer(\n",
    "    optimizer: ManualSolver,\n",
    "    max_iters: int = 1000,\n",
    "    start_w: np.ndarray = start_w_mush,\n",
    "    stop_criterion: float = 1e-8,\n",
    ") -> dict:\n",
    "\n",
    "    accuracies = []\n",
    "    losses = []\n",
    "    criterion_logs = []  # нормы градиента или что-то другое\n",
    "    time_logs = []\n",
    "\n",
    "    w = start_w.copy()\n",
    "\n",
    "    # initial eval\n",
    "    start_grad_norm, accuracy, val_loss = eval_optimizer_step(w)\n",
    "    time_logs.append(0)\n",
    "    criterion_logs.append(start_grad_norm / start_grad_norm)\n",
    "    accuracies.append(accuracy)\n",
    "    losses.append(val_loss)\n",
    "\n",
    "    start_time = time.time()\n",
    "\n",
    "    with tqdm(range(max_iters), desc=optimizer.name) as loop:\n",
    "        for k in loop:\n",
    "            # train\n",
    "            w = train_optimizer_step(optimizer, w, k)\n",
    "            # eval\n",
    "            grad_norm, accuracy, val_loss = eval_optimizer_step(w)\n",
    "            criterion_logs.append(grad_norm / start_grad_norm)\n",
    "            accuracies.append(accuracy)\n",
    "            losses.append(val_loss)\n",
    "            time_logs.append(time.time() - start_time)\n",
    "            loop.set_postfix(\n",
    "                {\"Loss\": val_loss, \"Accuracy\": accuracy, \"Grad norm\": grad_norm / start_grad_norm}\n",
    "            )\n",
    "            # Остановить, если criterion <= stop_criterion\n",
    "            if grad_norm / start_grad_norm <= stop_criterion:\n",
    "                break\n",
    "\n",
    "    results_dict = {\n",
    "        \"name\": optimizer.name,\n",
    "        \"num_iters\": list(range(len(accuracies))),\n",
    "        \"Time\": time_logs,\n",
    "        \"Accuracy\": accuracies,\n",
    "        \"Criterion\": criterion_logs,\n",
    "        \"Loss\": losses,\n",
    "        \"W\": w.copy(),\n",
    "    }\n",
    "\n",
    "    return results_dict"
   ]
  },
  {
   "cell_type": "code",
   "execution_count": null,
   "metadata": {
    "id": "iN88MZ9jaJOn"
   },
   "outputs": [],
   "source": [
    "def plot_results(results_dictionaries: list, title: str, metrics_type: list = ['Criterion'], x: str = 'num_iters') -> None:\n",
    "    valid_metrics = {'Criterion', 'Accuracy', 'Loss'}\n",
    "    assert all(metric in valid_metrics for metric in metrics_type), \\\n",
    "        f\"All metrics should be one of {valid_metrics}, got {metrics_type}\"\n",
    "\n",
    "    assert x in ['num_iters', 'Time'], f\"x should be one of ['num_iters', 'Time'], got {x}\"\n",
    "\n",
    "    num_metrics = len(metrics_type)\n",
    "    if num_metrics == 1:\n",
    "        width = 10\n",
    "    else:\n",
    "        width = 6 * num_metrics\n",
    "    fig, axs = plt.subplots(1, num_metrics, figsize=(width, 6), sharey=False)\n",
    "    if num_metrics == 1:\n",
    "        axs = [axs]\n",
    "\n",
    "    for idx, metric_type in enumerate(metrics_type):\n",
    "        ax = axs[idx]\n",
    "        for results_dict in results_dictionaries:\n",
    "            if metric_type == 'Criterion':\n",
    "                ax.set_yscale('log')\n",
    "            ax.plot(\n",
    "                results_dict[x],\n",
    "                results_dict[metric_type],\n",
    "                label=results_dict[\"name\"],\n",
    "                linewidth=2\n",
    "            )\n",
    "        ylabel = f\"log {metric_type}\" if metric_type == 'Criterion' else metric_type\n",
    "        ax.set_xlabel(x, fontsize=14)\n",
    "        ax.set_ylabel(ylabel, fontsize=14)\n",
    "        ax.legend(loc='best', fontsize=12)\n",
    "        ax.grid(True)\n",
    "\n",
    "    fig.suptitle(title, fontsize=16)\n",
    "    plt.tight_layout(rect=[0, 0, 1, 0.96])\n",
    "    plt.show()"
   ]
  },
  {
   "cell_type": "markdown",
   "metadata": {
    "id": "z2m9ZWufaN7w"
   },
   "source": [
    "#### Задача 2.2\n",
    "\n",
    "- Реализуйте метод шаг градиентного спуска (х баллов)\n",
    "- Проведите оптимизацию гиперпараметров . Сравнения проиллюстрируйте на графике. Критерием задачи является $\\frac{\\| \\nabla f(w^k) \\|}{\\| \\nabla f(w^0) \\|}$. Однако приветствуются также графики точности и функции потерь на тесте (x баллов):\n",
    "1.  Протестируйте различные $\\gamma_k = \\gamma = \\frac{s}{L}$, где $s \\in [0, 3]$, $L$ -- константа липшица в задаче. Рассмотрите не менее 4-х $s$;\n",
    "2. Протестируйте различные $\\gamma_k = \\frac{\\gamma}{\\delta + k}$, где $\\gamma, \\delta \\in [1, 100]$. Рассмотрите не менее 4-х гиперпараметров;\n",
    "3. Протестируйте различные $\\gamma_k = \\frac{\\gamma}{\\delta + \\sqrt{k}}$, где $\\gamma, \\delta \\in [1, 100]$. Рассмотрите не менее 4-х гиперпараметров;\n",
    "4. Выберите лучшие $\\gamma^1_k$, $\\gamma^2_k$, $\\gamma^3_k$ из п. 1-3 соответственно. Сделайте общий график, сравнивающий их. Также добавьте базовый $\\gamma_k = \\gamma = 10^{-3}$"
   ]
  },
  {
   "cell_type": "code",
   "execution_count": null,
   "metadata": {
    "id": "20D9uBJ6aLze"
   },
   "outputs": [],
   "source": [
    "class GradientDescent(ManualSolver):\n",
    "    def __init__(self, lr, name) -> None:\n",
    "        super().__init__(lr, name, True, False)\n",
    "    def step(self, w: np.ndarray, k: int, grad_f: np.ndarray, hess_f: None) -> np.ndarray:\n",
    "        # TODO: init GradientDescent step\n",
    "        # YOUR CODE HERE:\n",
    "        ###########################\n",
    "        ### ╰( ͡° ͜ʖ ͡° )つ──☆*:・ﾟ\n",
    "        ###########################\n",
    "        pass"
   ]
  },
  {
   "cell_type": "code",
   "execution_count": null,
   "metadata": {
    "id": "M5MP5o80agiw"
   },
   "outputs": [],
   "source": [
    "grad_opt = GradientDescent(lr=1e-3, name='GD lr=1e-3')\n",
    "gd_res_baseline = test_optimizer(grad_opt)\n",
    "plot_results([gd_res_baseline], 'Cходимость градиентного спуска')"
   ]
  },
  {
   "cell_type": "code",
   "execution_count": null,
   "metadata": {
    "id": "0rQd3yyyeKXb"
   },
   "outputs": [],
   "source": [
    "1.\n",
    "# YOUR CODE HERE:\n",
    "###########################\n",
    "### ╰( ͡° ͜ʖ ͡° )つ──☆*:・ﾟ\n",
    "###########################"
   ]
  },
  {
   "cell_type": "code",
   "execution_count": null,
   "metadata": {
    "id": "5JhY0WjgenS5"
   },
   "outputs": [],
   "source": [
    "2.\n",
    "# YOUR CODE HERE:\n",
    "###########################\n",
    "### ╰( ͡° ͜ʖ ͡° )つ──☆*:・ﾟ\n",
    "###########################\n",
    "\n",
    "def dynamic_lr(initial_gamma, delta):\n",
    "    # TODO: return a lambda function that depends on k\n",
    "    pass"
   ]
  },
  {
   "cell_type": "code",
   "execution_count": null,
   "metadata": {
    "id": "TVZRY1kIepQ6"
   },
   "outputs": [],
   "source": [
    "3.\n",
    "# YOUR CODE HERE:\n",
    "###########################\n",
    "### ╰( ͡° ͜ʖ ͡° )つ──☆*:・ﾟ\n",
    "###########################\n",
    "def dynamic_lr_sqrt(initial_gamma, delta):\n",
    "    # TODO: return a lambda function that depends on √k\n",
    "    pass"
   ]
  },
  {
   "cell_type": "code",
   "execution_count": null,
   "metadata": {
    "id": "SsHG5oU-erFa"
   },
   "outputs": [],
   "source": [
    "4.\n",
    "# YOUR CODE HERE:\n",
    "###########################\n",
    "### ╰( ͡° ͜ʖ ͡° )つ──☆*:・ﾟ\n",
    "###########################"
   ]
  },
  {
   "cell_type": "code",
   "execution_count": null,
   "metadata": {
    "id": "l2zamW-gexMj"
   },
   "outputs": [],
   "source": [
    "best_final_gd_res = # put best output here"
   ]
  },
  {
   "cell_type": "markdown",
   "metadata": {
    "id": "OOjVGk_qe7QD"
   },
   "source": [
    "### Задача 3 (1 балл)\n",
    "\n",
    "Рассмотрим метод тяжёлого шарика (Heavy Ball)\n",
    "\n",
    "$$ w^{k+1} = w^k - \\gamma_k \\nabla \\mathcal{L}(w^k) + \\tau_k (w^k - w^{k-1}) $$\n",
    "\n",
    "- Реализуйте шаг метода тяжёлого шарика\n",
    "- Используйте шаг $\\gamma = \\frac{1}{L}$.\n",
    "1. Рассмотрите моментум  $\\tau = \\frac{\\sqrt{L} - \\sqrt{\\mu}}{\\sqrt{L} + \\sqrt{\\mu}}$ и несколько моментумов в его окрестности: $s \\cdot \\tau$, где $s \\in [0.9, 1.1]$. Рассмотрите не менее 3-х окрестностей.\n",
    "2. Рассмотрите моментумы равные  $\\frac{k}{k+3}$, $\\frac{k}{k+2}$, $\\frac{k}{k+1}$ ($k$ — номер итерации),\n",
    "3. Сравните полученные результаты"
   ]
  },
  {
   "cell_type": "code",
   "execution_count": null,
   "metadata": {
    "id": "5tBV4vLWe6IU"
   },
   "outputs": [],
   "source": [
    "class HeavyBall(ManualSolver):\n",
    "    def __init__(self, lr, beta, init_w, name) -> None:\n",
    "        super().__init__(lr, name, True, False)\n",
    "        self.beta = beta if isinstance(beta, Callable) else lambda _: beta\n",
    "        self.w_prev = init_w\n",
    "\n",
    "    def step(self, w: np.ndarray, k: int, grad_f: np.ndarray, hess_f: None) -> np.ndarray:\n",
    "        # TODO: implement heavy ball iteration step\n",
    "        # YOUR CODE HERE:\n",
    "        ###########################\n",
    "        ### ╰( ͡° ͜ʖ ͡° )つ──☆*:・ﾟ\n",
    "        ###########################\n",
    "        pass"
   ]
  },
  {
   "cell_type": "code",
   "execution_count": null,
   "metadata": {
    "id": "EHjudXEJnF0d"
   },
   "outputs": [],
   "source": [
    "1.\n",
    "# YOUR CODE HERE:\n",
    "###########################\n",
    "### ╰( ͡° ͜ʖ ͡° )つ──☆*:・ﾟ\n",
    "###########################"
   ]
  },
  {
   "cell_type": "code",
   "execution_count": null,
   "metadata": {
    "id": "HuU5UFpunXJD"
   },
   "outputs": [],
   "source": [
    "2.\n",
    "# YOUR CODE HERE:\n",
    "###########################\n",
    "### ╰( ͡° ͜ʖ ͡° )つ──☆*:・ﾟ\n",
    "###########################\n",
    "\n",
    "def beta_k_s(s):\n",
    "    # TODO: return a lambda function that depends on k\n",
    "    pass"
   ]
  },
  {
   "cell_type": "code",
   "execution_count": null,
   "metadata": {
    "id": "-CBY_zrbnnoM"
   },
   "outputs": [],
   "source": [
    "3.\n",
    "# YOUR CODE HERE:\n",
    "###########################\n",
    "### ╰( ͡° ͜ʖ ͡° )つ──☆*:・ﾟ\n",
    "###########################"
   ]
  },
  {
   "cell_type": "code",
   "execution_count": null,
   "metadata": {
    "id": "1279BxuEpb1L"
   },
   "outputs": [],
   "source": [
    "best_final_hb_res = # put best output here"
   ]
  },
  {
   "cell_type": "markdown",
   "metadata": {
    "id": "sql9EfVZnrVD"
   },
   "source": [
    "### Задача 4 (1 балл)\n",
    "\n",
    "Рассмотрим ускоренный градиентный метод (Nesterov Accelerated Gradient)\n",
    "\n",
    "$$\n",
    "\\begin{align*}\n",
    "& w_{k+1} = y_k - \\gamma_k \\nabla \\mathcal{L}(y_k) \\\\\n",
    "& y_{k+1} = w_{k+1} + \\tau_k (w_{k+1} - w_k)\n",
    "\\end{align*}\n",
    "$$\n",
    "\n",
    "- Реализуйте шаг ускоренного градиентного метода\n",
    "- Используйте шаг $\\gamma = \\frac{1}{L}$.\n",
    "1. Рассмотрите моментум  $\\tau = \\frac{\\sqrt{L} - \\sqrt{\\mu}}{\\sqrt{L} + \\sqrt{\\mu}}$ и несколько моментумов в его окрестности: $s \\cdot \\tau$, где $s \\in [0.9, 1.1]$. Рассмотрите не менее 3-х окрестностей.\n",
    "2. Рассмотрите моментумы равные  $\\frac{k}{k+3}$, $\\frac{k}{k+2}$, $\\frac{k}{k+1}$ ($k$ — номер итерации).\n",
    "3. Сравните полученные результаты."
   ]
  },
  {
   "cell_type": "code",
   "execution_count": null,
   "metadata": {
    "id": "reRD1q_spncr"
   },
   "outputs": [],
   "source": [
    "class NAG(ManualSolver):\n",
    "    def __init__(self, lr, beta, init_w, name) -> None:\n",
    "        super().__init__(lr, name, False, False)\n",
    "        self.beta = beta if isinstance(beta, Callable) else lambda _: beta\n",
    "        self.w_prev = init_w\n",
    "        self.y_prev = init_w\n",
    "\n",
    "    def step(self, w: np.ndarray, k: int, grad_f: None, hess_f: None) -> np.ndarray:\n",
    "        # TODO: implement NAG iteration step\n",
    "        # YOUR CODE HERE:\n",
    "        ###########################\n",
    "        ### ╰( ͡° ͜ʖ ͡° )つ──☆*:・ﾟ\n",
    "        ###########################\n",
    "        pass"
   ]
  },
  {
   "cell_type": "code",
   "execution_count": null,
   "metadata": {
    "id": "0RVjKnbupyex"
   },
   "outputs": [],
   "source": [
    "1.\n",
    "# YOUR CODE HERE:\n",
    "###########################\n",
    "### ╰( ͡° ͜ʖ ͡° )つ──☆*:・ﾟ\n",
    "###########################"
   ]
  },
  {
   "cell_type": "code",
   "execution_count": null,
   "metadata": {
    "id": "an_BM-rfp1oz"
   },
   "outputs": [],
   "source": [
    "2.\n",
    "# YOUR CODE HERE:\n",
    "###########################\n",
    "### ╰( ͡° ͜ʖ ͡° )つ──☆*:・ﾟ\n",
    "###########################\n",
    "\n",
    "def beta_k_s(s):\n",
    "    # TODO: return a lambda function that depends on k\n",
    "    pass"
   ]
  },
  {
   "cell_type": "code",
   "execution_count": null,
   "metadata": {
    "id": "PFAKNwmwp2-z"
   },
   "outputs": [],
   "source": [
    "3.\n",
    "# YOUR CODE HERE:\n",
    "###########################\n",
    "### ╰( ͡° ͜ʖ ͡° )つ──☆*:・ﾟ\n",
    "###########################"
   ]
  },
  {
   "cell_type": "code",
   "execution_count": null,
   "metadata": {
    "id": "QRc6R_1qp4Mo"
   },
   "outputs": [],
   "source": [
    "best_final_nag_res = # put best output here"
   ]
  },
  {
   "cell_type": "markdown",
   "metadata": {
    "id": "2y8_gEAwp7iu"
   },
   "source": [
    "### Задача 5 (1 балл)\n",
    "\n",
    "Рассмотрим один из самых известных методов второго порядка - Метод Ньютона (Newton's method):\n",
    "\n",
    "$$\n",
    "w_{k+1} = w_k - \\nabla^2\\mathcal{L}(w^k)^{-1} \\nabla \\mathcal{L}(w^k)\n",
    "$$\n",
    "\n",
    "А точнее, его модификацию - демпфированный метод Ньютона (Dumped Newton's method):\n",
    "\n",
    "$$\n",
    "w_{k+1} = w_k - \\gamma_k \\nabla^2\\mathcal{L}(w^k)^{-1} \\nabla \\mathcal{L}(w^k)\n",
    "$$\n",
    "\n",
    "- Реализуйте шаг демпфированного метода Ньютона\n",
    "1.  Протестируйте различные $\\gamma_k = \\gamma = \\frac{s}{L}$, где $s \\in [0.5, 1.5]$, $L$ -- константа липшица в задаче. Рассмотрите не менее 3-х $s$.\n",
    "2. Сравните полученные результаты."
   ]
  },
  {
   "cell_type": "code",
   "execution_count": null,
   "metadata": {
    "id": "zITI5w9wrU5B"
   },
   "outputs": [],
   "source": [
    "class Newton(ManualSolver):\n",
    "    def __init__(self, lr, name) -> None:\n",
    "        super().__init__(lr, name, True, True)\n",
    "\n",
    "    def step(self, w: np.ndarray, k: int, grad_f: np.ndarray, hess_f: np.ndarray) -> np.ndarray:\n",
    "        # TODO: implement Newton iteration step\n",
    "        # YOUR CODE HERE:\n",
    "        ###########################\n",
    "        ### ╰( ͡° ͜ʖ ͡° )つ──☆*:・ﾟ\n",
    "        ###########################\n",
    "        pass"
   ]
  },
  {
   "cell_type": "code",
   "execution_count": null,
   "metadata": {
    "id": "B7CWfATdrZcO"
   },
   "outputs": [],
   "source": [
    "1.\n",
    "# YOUR CODE HERE:\n",
    "###########################\n",
    "### ╰( ͡° ͜ʖ ͡° )つ──☆*:・ﾟ\n",
    "###########################"
   ]
  },
  {
   "cell_type": "code",
   "execution_count": null,
   "metadata": {
    "id": "6pMxuQIjrcY_"
   },
   "outputs": [],
   "source": [
    "2.\n",
    "# YOUR CODE HERE:\n",
    "###########################\n",
    "### ╰( ͡° ͜ʖ ͡° )つ──☆*:・ﾟ\n",
    "###########################"
   ]
  },
  {
   "cell_type": "code",
   "execution_count": null,
   "metadata": {
    "id": "4YgWp7cZrdIf"
   },
   "outputs": [],
   "source": [
    "best_final_newton_res = # put best output here"
   ]
  },
  {
   "cell_type": "markdown",
   "metadata": {
    "id": "cQM7H0Drrjro"
   },
   "source": [
    "### Сравнение лучших реализаций"
   ]
  },
  {
   "cell_type": "code",
   "execution_count": null,
   "metadata": {
    "id": "xRgbj8J2rfzn"
   },
   "outputs": [],
   "source": [
    "final_results = [best_final_gd_res, best_final_hb_res, best_final_nag_res, best_final_newton_res]\n",
    "plot_results(final_results, 'Сравнение лучших реализаций методов', metrics_type=['Criterion'])"
   ]
  },
  {
   "cell_type": "code",
   "execution_count": null,
   "metadata": {
    "id": "4sQE_-u6ri5X"
   },
   "outputs": [],
   "source": [
    "final_results = [best_final_gd_res, best_final_hb_res, best_final_nag_res, best_final_newton_res]\n",
    "plot_results(final_results, 'Сравнение лучших реализаций методов', metrics_type=['Criterion'], x='Time')"
   ]
  },
  {
   "cell_type": "markdown",
   "metadata": {
    "id": "SuzxJF2cr3EX"
   },
   "source": [
    "### Ваши выводы (до 0.5 баллов):\n",
    "\n",
    "1. Почему предложено выбирать $\\gamma = \\frac{s}{L}$, $\\tau = \\frac{\\sqrt{L} - \\sqrt{\\mu}}{\\sqrt{L} + \\sqrt{\\mu}}$?\n",
    "2. Почему наблюдаются различия в графиках по количеству итераций и по времени?\n",
    "3. Любые другие рассуждения приветствуются"
   ]
  },
  {
   "cell_type": "markdown",
   "metadata": {
    "id": "VrRv7F7sdd4h"
   },
   "source": [
    "### Задача 6* (1 балл)\n",
    "\n",
    "Метод проксимального градиентного спуска используется для оптмизации композитной функции потерь\n",
    "$$\n",
    "h(w) = f(w) + g(w),\n",
    "$$\n",
    "где $f(w)$ является выпуклой дифференцируемой функцией на своей области определения. Особенностью является то, что $g(w)$ не обязательно должна быть дифференцируема всюду на своём множестве определения.  \n",
    "\n",
    "Мы решаем задачу вида\n",
    "$$\n",
    "\\min_{w\\in \\mathbb{R}^d}\\{f(w) + R(w)\\},\n",
    "$$\n",
    "где $R(w)$ -- выпуклый (возможно негладкий) регуляризатор. \\\\\n",
    "Обновление параметров осуществляется по схеме\n",
    "$$\n",
    "w_{k+1} = prox_{\\gamma R}(w_k - \\gamma\\nabla f(w)),\n",
    "$$\n",
    "где проксимальный оператор определяется как\n",
    "$$\n",
    "prox_{\\gamma R}(v) = \\arg\\min_{w\\in \\mathbb{R}^d}\\left\\{\\dfrac{1}{2\\gamma}\\|w - v\\|^2 + R(w) \\right\\}.\n",
    "$$"
   ]
  },
  {
   "cell_type": "markdown",
   "metadata": {
    "id": "dfhUCweCqr8K"
   },
   "source": [
    "* Реализуйте шаг проксимального градиентного спуска для различных видов $R(w)$ (L1, L2-регуляризация).\n",
    "1. Протестируйте различные $\\gamma_k = \\gamma = \\frac{s}{L}$, где $L$ определяется согласно $R(w)$.\n",
    "2. Сравните полученные результаты\n",
    "\n"
   ]
  },
  {
   "cell_type": "code",
   "execution_count": null,
   "metadata": {
    "id": "BLXS20EAto_h"
   },
   "outputs": [],
   "source": [
    "1.\n",
    "# YOUR CODE HERE:\n",
    "###########################\n",
    "### ╰( ͡° ͜ʖ ͡° )つ──☆*:・ﾟ\n",
    "###########################"
   ]
  },
  {
   "cell_type": "code",
   "execution_count": null,
   "metadata": {
    "id": "LYguATOjtpSb"
   },
   "outputs": [],
   "source": [
    "2.\n",
    "# YOUR CODE HERE:\n",
    "###########################\n",
    "### ╰( ͡° ͜ʖ ͡° )つ──☆*:・ﾟ\n",
    "###########################"
   ]
  },
  {
   "cell_type": "markdown",
   "metadata": {
    "id": "0h4vTgDep42H"
   },
   "source": [
    "## Задание 3: Предсказание погоды в Австралии\n",
    "\n",
    "Датасет содержит ежедневные наблюдения погоды в различных регионах Австралии за период в 10 лет.\n",
    "\n",
    "Предсказываемым признаком является `RainTomorrow`: \"Будет ли завтра дождь?\". Это задача бинарной классификации."
   ]
  },
  {
   "cell_type": "markdown",
   "metadata": {
    "id": "-naCj3l-YZWf"
   },
   "source": [
    "Скачиваем датасет"
   ]
  },
  {
   "cell_type": "code",
   "execution_count": null,
   "metadata": {
    "id": "b7h4woFPW-FJ"
   },
   "outputs": [],
   "source": [
    "import pandas as pd\n",
    "import seaborn as sns"
   ]
  },
  {
   "cell_type": "code",
   "execution_count": null,
   "metadata": {
    "colab": {
     "base_uri": "https://localhost:8080/",
     "height": 342
    },
    "executionInfo": {
     "elapsed": 1434,
     "status": "ok",
     "timestamp": 1739049119955,
     "user": {
      "displayName": "Сергей Скорик",
      "userId": "16638388598197815420"
     },
     "user_tz": -180
    },
    "id": "Sx3bmGg7qkDj",
    "outputId": "ac7d3b4b-4fe5-4387-f3ca-2c8f7b59efd4"
   },
   "outputs": [
    {
     "data": {
      "application/vnd.google.colaboratory.intrinsic+json": {
       "type": "dataframe",
       "variable_name": "df"
      },
      "text/html": [
       "\n",
       "  <div id=\"df-800f0759-9a6c-4e54-a039-48a5e247700c\" class=\"colab-df-container\">\n",
       "    <div>\n",
       "<style scoped>\n",
       "    .dataframe tbody tr th:only-of-type {\n",
       "        vertical-align: middle;\n",
       "    }\n",
       "\n",
       "    .dataframe tbody tr th {\n",
       "        vertical-align: top;\n",
       "    }\n",
       "\n",
       "    .dataframe thead th {\n",
       "        text-align: right;\n",
       "    }\n",
       "</style>\n",
       "<table border=\"1\" class=\"dataframe\">\n",
       "  <thead>\n",
       "    <tr style=\"text-align: right;\">\n",
       "      <th></th>\n",
       "      <th>Date</th>\n",
       "      <th>Location</th>\n",
       "      <th>MinTemp</th>\n",
       "      <th>MaxTemp</th>\n",
       "      <th>Rainfall</th>\n",
       "      <th>Evaporation</th>\n",
       "      <th>Sunshine</th>\n",
       "      <th>WindGustDir</th>\n",
       "      <th>WindGustSpeed</th>\n",
       "      <th>WindDir9am</th>\n",
       "      <th>...</th>\n",
       "      <th>Humidity9am</th>\n",
       "      <th>Humidity3pm</th>\n",
       "      <th>Pressure9am</th>\n",
       "      <th>Pressure3pm</th>\n",
       "      <th>Cloud9am</th>\n",
       "      <th>Cloud3pm</th>\n",
       "      <th>Temp9am</th>\n",
       "      <th>Temp3pm</th>\n",
       "      <th>RainToday</th>\n",
       "      <th>RainTomorrow</th>\n",
       "    </tr>\n",
       "  </thead>\n",
       "  <tbody>\n",
       "    <tr>\n",
       "      <th>0</th>\n",
       "      <td>2008-12-01</td>\n",
       "      <td>Albury</td>\n",
       "      <td>13.4</td>\n",
       "      <td>22.9</td>\n",
       "      <td>0.6</td>\n",
       "      <td>NaN</td>\n",
       "      <td>NaN</td>\n",
       "      <td>W</td>\n",
       "      <td>44.0</td>\n",
       "      <td>W</td>\n",
       "      <td>...</td>\n",
       "      <td>71.0</td>\n",
       "      <td>22.0</td>\n",
       "      <td>1007.7</td>\n",
       "      <td>1007.1</td>\n",
       "      <td>8.0</td>\n",
       "      <td>NaN</td>\n",
       "      <td>16.9</td>\n",
       "      <td>21.8</td>\n",
       "      <td>No</td>\n",
       "      <td>No</td>\n",
       "    </tr>\n",
       "    <tr>\n",
       "      <th>1</th>\n",
       "      <td>2008-12-02</td>\n",
       "      <td>Albury</td>\n",
       "      <td>7.4</td>\n",
       "      <td>25.1</td>\n",
       "      <td>0.0</td>\n",
       "      <td>NaN</td>\n",
       "      <td>NaN</td>\n",
       "      <td>WNW</td>\n",
       "      <td>44.0</td>\n",
       "      <td>NNW</td>\n",
       "      <td>...</td>\n",
       "      <td>44.0</td>\n",
       "      <td>25.0</td>\n",
       "      <td>1010.6</td>\n",
       "      <td>1007.8</td>\n",
       "      <td>NaN</td>\n",
       "      <td>NaN</td>\n",
       "      <td>17.2</td>\n",
       "      <td>24.3</td>\n",
       "      <td>No</td>\n",
       "      <td>No</td>\n",
       "    </tr>\n",
       "    <tr>\n",
       "      <th>2</th>\n",
       "      <td>2008-12-03</td>\n",
       "      <td>Albury</td>\n",
       "      <td>12.9</td>\n",
       "      <td>25.7</td>\n",
       "      <td>0.0</td>\n",
       "      <td>NaN</td>\n",
       "      <td>NaN</td>\n",
       "      <td>WSW</td>\n",
       "      <td>46.0</td>\n",
       "      <td>W</td>\n",
       "      <td>...</td>\n",
       "      <td>38.0</td>\n",
       "      <td>30.0</td>\n",
       "      <td>1007.6</td>\n",
       "      <td>1008.7</td>\n",
       "      <td>NaN</td>\n",
       "      <td>2.0</td>\n",
       "      <td>21.0</td>\n",
       "      <td>23.2</td>\n",
       "      <td>No</td>\n",
       "      <td>No</td>\n",
       "    </tr>\n",
       "    <tr>\n",
       "      <th>3</th>\n",
       "      <td>2008-12-04</td>\n",
       "      <td>Albury</td>\n",
       "      <td>9.2</td>\n",
       "      <td>28.0</td>\n",
       "      <td>0.0</td>\n",
       "      <td>NaN</td>\n",
       "      <td>NaN</td>\n",
       "      <td>NE</td>\n",
       "      <td>24.0</td>\n",
       "      <td>SE</td>\n",
       "      <td>...</td>\n",
       "      <td>45.0</td>\n",
       "      <td>16.0</td>\n",
       "      <td>1017.6</td>\n",
       "      <td>1012.8</td>\n",
       "      <td>NaN</td>\n",
       "      <td>NaN</td>\n",
       "      <td>18.1</td>\n",
       "      <td>26.5</td>\n",
       "      <td>No</td>\n",
       "      <td>No</td>\n",
       "    </tr>\n",
       "    <tr>\n",
       "      <th>4</th>\n",
       "      <td>2008-12-05</td>\n",
       "      <td>Albury</td>\n",
       "      <td>17.5</td>\n",
       "      <td>32.3</td>\n",
       "      <td>1.0</td>\n",
       "      <td>NaN</td>\n",
       "      <td>NaN</td>\n",
       "      <td>W</td>\n",
       "      <td>41.0</td>\n",
       "      <td>ENE</td>\n",
       "      <td>...</td>\n",
       "      <td>82.0</td>\n",
       "      <td>33.0</td>\n",
       "      <td>1010.8</td>\n",
       "      <td>1006.0</td>\n",
       "      <td>7.0</td>\n",
       "      <td>8.0</td>\n",
       "      <td>17.8</td>\n",
       "      <td>29.7</td>\n",
       "      <td>No</td>\n",
       "      <td>No</td>\n",
       "    </tr>\n",
       "  </tbody>\n",
       "</table>\n",
       "<p>5 rows × 23 columns</p>\n",
       "</div>\n",
       "    <div class=\"colab-df-buttons\">\n",
       "\n",
       "  <div class=\"colab-df-container\">\n",
       "    <button class=\"colab-df-convert\" onclick=\"convertToInteractive('df-800f0759-9a6c-4e54-a039-48a5e247700c')\"\n",
       "            title=\"Convert this dataframe to an interactive table.\"\n",
       "            style=\"display:none;\">\n",
       "\n",
       "  <svg xmlns=\"http://www.w3.org/2000/svg\" height=\"24px\" viewBox=\"0 -960 960 960\">\n",
       "    <path d=\"M120-120v-720h720v720H120Zm60-500h600v-160H180v160Zm220 220h160v-160H400v160Zm0 220h160v-160H400v160ZM180-400h160v-160H180v160Zm440 0h160v-160H620v160ZM180-180h160v-160H180v160Zm440 0h160v-160H620v160Z\"/>\n",
       "  </svg>\n",
       "    </button>\n",
       "\n",
       "  <style>\n",
       "    .colab-df-container {\n",
       "      display:flex;\n",
       "      gap: 12px;\n",
       "    }\n",
       "\n",
       "    .colab-df-convert {\n",
       "      background-color: #E8F0FE;\n",
       "      border: none;\n",
       "      border-radius: 50%;\n",
       "      cursor: pointer;\n",
       "      display: none;\n",
       "      fill: #1967D2;\n",
       "      height: 32px;\n",
       "      padding: 0 0 0 0;\n",
       "      width: 32px;\n",
       "    }\n",
       "\n",
       "    .colab-df-convert:hover {\n",
       "      background-color: #E2EBFA;\n",
       "      box-shadow: 0px 1px 2px rgba(60, 64, 67, 0.3), 0px 1px 3px 1px rgba(60, 64, 67, 0.15);\n",
       "      fill: #174EA6;\n",
       "    }\n",
       "\n",
       "    .colab-df-buttons div {\n",
       "      margin-bottom: 4px;\n",
       "    }\n",
       "\n",
       "    [theme=dark] .colab-df-convert {\n",
       "      background-color: #3B4455;\n",
       "      fill: #D2E3FC;\n",
       "    }\n",
       "\n",
       "    [theme=dark] .colab-df-convert:hover {\n",
       "      background-color: #434B5C;\n",
       "      box-shadow: 0px 1px 3px 1px rgba(0, 0, 0, 0.15);\n",
       "      filter: drop-shadow(0px 1px 2px rgba(0, 0, 0, 0.3));\n",
       "      fill: #FFFFFF;\n",
       "    }\n",
       "  </style>\n",
       "\n",
       "    <script>\n",
       "      const buttonEl =\n",
       "        document.querySelector('#df-800f0759-9a6c-4e54-a039-48a5e247700c button.colab-df-convert');\n",
       "      buttonEl.style.display =\n",
       "        google.colab.kernel.accessAllowed ? 'block' : 'none';\n",
       "\n",
       "      async function convertToInteractive(key) {\n",
       "        const element = document.querySelector('#df-800f0759-9a6c-4e54-a039-48a5e247700c');\n",
       "        const dataTable =\n",
       "          await google.colab.kernel.invokeFunction('convertToInteractive',\n",
       "                                                    [key], {});\n",
       "        if (!dataTable) return;\n",
       "\n",
       "        const docLinkHtml = 'Like what you see? Visit the ' +\n",
       "          '<a target=\"_blank\" href=https://colab.research.google.com/notebooks/data_table.ipynb>data table notebook</a>'\n",
       "          + ' to learn more about interactive tables.';\n",
       "        element.innerHTML = '';\n",
       "        dataTable['output_type'] = 'display_data';\n",
       "        await google.colab.output.renderOutput(dataTable, element);\n",
       "        const docLink = document.createElement('div');\n",
       "        docLink.innerHTML = docLinkHtml;\n",
       "        element.appendChild(docLink);\n",
       "      }\n",
       "    </script>\n",
       "  </div>\n",
       "\n",
       "\n",
       "<div id=\"df-a0f3fecb-5b37-4325-9ad2-e07b8e627ee1\">\n",
       "  <button class=\"colab-df-quickchart\" onclick=\"quickchart('df-a0f3fecb-5b37-4325-9ad2-e07b8e627ee1')\"\n",
       "            title=\"Suggest charts\"\n",
       "            style=\"display:none;\">\n",
       "\n",
       "<svg xmlns=\"http://www.w3.org/2000/svg\" height=\"24px\"viewBox=\"0 0 24 24\"\n",
       "     width=\"24px\">\n",
       "    <g>\n",
       "        <path d=\"M19 3H5c-1.1 0-2 .9-2 2v14c0 1.1.9 2 2 2h14c1.1 0 2-.9 2-2V5c0-1.1-.9-2-2-2zM9 17H7v-7h2v7zm4 0h-2V7h2v10zm4 0h-2v-4h2v4z\"/>\n",
       "    </g>\n",
       "</svg>\n",
       "  </button>\n",
       "\n",
       "<style>\n",
       "  .colab-df-quickchart {\n",
       "      --bg-color: #E8F0FE;\n",
       "      --fill-color: #1967D2;\n",
       "      --hover-bg-color: #E2EBFA;\n",
       "      --hover-fill-color: #174EA6;\n",
       "      --disabled-fill-color: #AAA;\n",
       "      --disabled-bg-color: #DDD;\n",
       "  }\n",
       "\n",
       "  [theme=dark] .colab-df-quickchart {\n",
       "      --bg-color: #3B4455;\n",
       "      --fill-color: #D2E3FC;\n",
       "      --hover-bg-color: #434B5C;\n",
       "      --hover-fill-color: #FFFFFF;\n",
       "      --disabled-bg-color: #3B4455;\n",
       "      --disabled-fill-color: #666;\n",
       "  }\n",
       "\n",
       "  .colab-df-quickchart {\n",
       "    background-color: var(--bg-color);\n",
       "    border: none;\n",
       "    border-radius: 50%;\n",
       "    cursor: pointer;\n",
       "    display: none;\n",
       "    fill: var(--fill-color);\n",
       "    height: 32px;\n",
       "    padding: 0;\n",
       "    width: 32px;\n",
       "  }\n",
       "\n",
       "  .colab-df-quickchart:hover {\n",
       "    background-color: var(--hover-bg-color);\n",
       "    box-shadow: 0 1px 2px rgba(60, 64, 67, 0.3), 0 1px 3px 1px rgba(60, 64, 67, 0.15);\n",
       "    fill: var(--button-hover-fill-color);\n",
       "  }\n",
       "\n",
       "  .colab-df-quickchart-complete:disabled,\n",
       "  .colab-df-quickchart-complete:disabled:hover {\n",
       "    background-color: var(--disabled-bg-color);\n",
       "    fill: var(--disabled-fill-color);\n",
       "    box-shadow: none;\n",
       "  }\n",
       "\n",
       "  .colab-df-spinner {\n",
       "    border: 2px solid var(--fill-color);\n",
       "    border-color: transparent;\n",
       "    border-bottom-color: var(--fill-color);\n",
       "    animation:\n",
       "      spin 1s steps(1) infinite;\n",
       "  }\n",
       "\n",
       "  @keyframes spin {\n",
       "    0% {\n",
       "      border-color: transparent;\n",
       "      border-bottom-color: var(--fill-color);\n",
       "      border-left-color: var(--fill-color);\n",
       "    }\n",
       "    20% {\n",
       "      border-color: transparent;\n",
       "      border-left-color: var(--fill-color);\n",
       "      border-top-color: var(--fill-color);\n",
       "    }\n",
       "    30% {\n",
       "      border-color: transparent;\n",
       "      border-left-color: var(--fill-color);\n",
       "      border-top-color: var(--fill-color);\n",
       "      border-right-color: var(--fill-color);\n",
       "    }\n",
       "    40% {\n",
       "      border-color: transparent;\n",
       "      border-right-color: var(--fill-color);\n",
       "      border-top-color: var(--fill-color);\n",
       "    }\n",
       "    60% {\n",
       "      border-color: transparent;\n",
       "      border-right-color: var(--fill-color);\n",
       "    }\n",
       "    80% {\n",
       "      border-color: transparent;\n",
       "      border-right-color: var(--fill-color);\n",
       "      border-bottom-color: var(--fill-color);\n",
       "    }\n",
       "    90% {\n",
       "      border-color: transparent;\n",
       "      border-bottom-color: var(--fill-color);\n",
       "    }\n",
       "  }\n",
       "</style>\n",
       "\n",
       "  <script>\n",
       "    async function quickchart(key) {\n",
       "      const quickchartButtonEl =\n",
       "        document.querySelector('#' + key + ' button');\n",
       "      quickchartButtonEl.disabled = true;  // To prevent multiple clicks.\n",
       "      quickchartButtonEl.classList.add('colab-df-spinner');\n",
       "      try {\n",
       "        const charts = await google.colab.kernel.invokeFunction(\n",
       "            'suggestCharts', [key], {});\n",
       "      } catch (error) {\n",
       "        console.error('Error during call to suggestCharts:', error);\n",
       "      }\n",
       "      quickchartButtonEl.classList.remove('colab-df-spinner');\n",
       "      quickchartButtonEl.classList.add('colab-df-quickchart-complete');\n",
       "    }\n",
       "    (() => {\n",
       "      let quickchartButtonEl =\n",
       "        document.querySelector('#df-a0f3fecb-5b37-4325-9ad2-e07b8e627ee1 button');\n",
       "      quickchartButtonEl.style.display =\n",
       "        google.colab.kernel.accessAllowed ? 'block' : 'none';\n",
       "    })();\n",
       "  </script>\n",
       "</div>\n",
       "    </div>\n",
       "  </div>\n"
      ],
      "text/plain": [
       "         Date Location  MinTemp  MaxTemp  Rainfall  Evaporation  Sunshine  \\\n",
       "0  2008-12-01   Albury     13.4     22.9       0.6          NaN       NaN   \n",
       "1  2008-12-02   Albury      7.4     25.1       0.0          NaN       NaN   \n",
       "2  2008-12-03   Albury     12.9     25.7       0.0          NaN       NaN   \n",
       "3  2008-12-04   Albury      9.2     28.0       0.0          NaN       NaN   \n",
       "4  2008-12-05   Albury     17.5     32.3       1.0          NaN       NaN   \n",
       "\n",
       "  WindGustDir  WindGustSpeed WindDir9am  ... Humidity9am  Humidity3pm  \\\n",
       "0           W           44.0          W  ...        71.0         22.0   \n",
       "1         WNW           44.0        NNW  ...        44.0         25.0   \n",
       "2         WSW           46.0          W  ...        38.0         30.0   \n",
       "3          NE           24.0         SE  ...        45.0         16.0   \n",
       "4           W           41.0        ENE  ...        82.0         33.0   \n",
       "\n",
       "   Pressure9am  Pressure3pm  Cloud9am  Cloud3pm  Temp9am  Temp3pm  RainToday  \\\n",
       "0       1007.7       1007.1       8.0       NaN     16.9     21.8         No   \n",
       "1       1010.6       1007.8       NaN       NaN     17.2     24.3         No   \n",
       "2       1007.6       1008.7       NaN       2.0     21.0     23.2         No   \n",
       "3       1017.6       1012.8       NaN       NaN     18.1     26.5         No   \n",
       "4       1010.8       1006.0       7.0       8.0     17.8     29.7         No   \n",
       "\n",
       "   RainTomorrow  \n",
       "0            No  \n",
       "1            No  \n",
       "2            No  \n",
       "3            No  \n",
       "4            No  \n",
       "\n",
       "[5 rows x 23 columns]"
      ]
     },
     "execution_count": 3,
     "metadata": {},
     "output_type": "execute_result"
    }
   ],
   "source": [
    "url = 'https://huggingface.co/Anm5/rainpred/resolve/main/weatherAUS.csv'\n",
    "filename = 'weatherAUS.csv'\n",
    "\n",
    "response = requests.get(url)\n",
    "with open(filename, 'wb') as file:\n",
    "    file.write(response.content)\n",
    "df = pd.read_csv(filename)\n",
    "df.head(5)"
   ]
  },
  {
   "cell_type": "markdown",
   "metadata": {
    "id": "gfWHAg2xYbRI"
   },
   "source": [
    "### Задача 1 (3 балла): Анализ датасета\n",
    "\n",
    "Датасет представляет собой табличные данные. В этом задании вы убедитесь, что основной объём работы в классификации таких данных с помощью методов машинного состоит в анализе датасета и его признаков."
   ]
  },
  {
   "cell_type": "markdown",
   "metadata": {
    "id": "_od1d9OiZpGC"
   },
   "source": [
    "Давайте выведем общую информацию о признаках в датасете"
   ]
  },
  {
   "cell_type": "code",
   "execution_count": null,
   "metadata": {
    "colab": {
     "base_uri": "https://localhost:8080/"
    },
    "executionInfo": {
     "elapsed": 92,
     "status": "ok",
     "timestamp": 1739049152016,
     "user": {
      "displayName": "Сергей Скорик",
      "userId": "16638388598197815420"
     },
     "user_tz": -180
    },
    "id": "4G6SSl3GZmBv",
    "outputId": "2efcda5e-581f-4028-9bff-a551305085ff"
   },
   "outputs": [
    {
     "name": "stdout",
     "output_type": "stream",
     "text": [
      "<class 'pandas.core.frame.DataFrame'>\n",
      "RangeIndex: 145460 entries, 0 to 145459\n",
      "Data columns (total 23 columns):\n",
      " #   Column         Non-Null Count   Dtype  \n",
      "---  ------         --------------   -----  \n",
      " 0   Date           145460 non-null  object \n",
      " 1   Location       145460 non-null  object \n",
      " 2   MinTemp        143975 non-null  float64\n",
      " 3   MaxTemp        144199 non-null  float64\n",
      " 4   Rainfall       142199 non-null  float64\n",
      " 5   Evaporation    82670 non-null   float64\n",
      " 6   Sunshine       75625 non-null   float64\n",
      " 7   WindGustDir    135134 non-null  object \n",
      " 8   WindGustSpeed  135197 non-null  float64\n",
      " 9   WindDir9am     134894 non-null  object \n",
      " 10  WindDir3pm     141232 non-null  object \n",
      " 11  WindSpeed9am   143693 non-null  float64\n",
      " 12  WindSpeed3pm   142398 non-null  float64\n",
      " 13  Humidity9am    142806 non-null  float64\n",
      " 14  Humidity3pm    140953 non-null  float64\n",
      " 15  Pressure9am    130395 non-null  float64\n",
      " 16  Pressure3pm    130432 non-null  float64\n",
      " 17  Cloud9am       89572 non-null   float64\n",
      " 18  Cloud3pm       86102 non-null   float64\n",
      " 19  Temp9am        143693 non-null  float64\n",
      " 20  Temp3pm        141851 non-null  float64\n",
      " 21  RainToday      142199 non-null  object \n",
      " 22  RainTomorrow   142193 non-null  object \n",
      "dtypes: float64(16), object(7)\n",
      "memory usage: 25.5+ MB\n",
      "Number of NaN targets: 3267\n"
     ]
    }
   ],
   "source": [
    "df.info()\n",
    "print(f\"Number of NaN targets: {df['RainTomorrow'].isnull().sum()}\")"
   ]
  },
  {
   "cell_type": "markdown",
   "metadata": {
    "id": "1fNt6zXrZ2a8"
   },
   "source": [
    "Можно заметить, что для некоторых примеров в датасете отсутствует разметка. Поскольку мы решаем задачу классификации с учителем, эти примеры нас не интересуют.\n",
    "\n",
    "**Удалите из датасета сэмплы с отсутствующим значением `RainTomorrow`**."
   ]
  },
  {
   "cell_type": "code",
   "execution_count": null,
   "metadata": {
    "id": "s_vPw-z8Z2u5"
   },
   "outputs": [],
   "source": [
    "# YOUR CODE HERE:\n",
    "###########################\n",
    "### ╰( ͡° ͜ʖ ͡° )つ──☆*:・ﾟ\n",
    "###########################\n",
    "# Output: `df` variable."
   ]
  },
  {
   "cell_type": "markdown",
   "metadata": {
    "id": "4CSTOGmPbAJ_"
   },
   "source": [
    "Выделим категориальные переменные"
   ]
  },
  {
   "cell_type": "code",
   "execution_count": null,
   "metadata": {
    "colab": {
     "base_uri": "https://localhost:8080/"
    },
    "executionInfo": {
     "elapsed": 60,
     "status": "ok",
     "timestamp": 1739049663027,
     "user": {
      "displayName": "Сергей Скорик",
      "userId": "16638388598197815420"
     },
     "user_tz": -180
    },
    "id": "W5g0xsTgbgmr",
    "outputId": "119704f8-0a05-4c35-9c3f-f5eb9c0c9350"
   },
   "outputs": [
    {
     "name": "stdout",
     "output_type": "stream",
     "text": [
      "The categorical variables are : ['Date', 'Location', 'WindGustDir', 'WindDir9am', 'WindDir3pm', 'RainToday', 'RainTomorrow']\n",
      "Number of unique Date: 3436\n",
      "Number of unique Location: 49\n",
      "Number of unique WindGustDir: 16\n",
      "Number of unique WindDir9am: 16\n",
      "Number of unique WindDir3pm: 16\n",
      "Number of unique RainToday: 2\n",
      "Number of unique RainTomorrow: 2\n"
     ]
    }
   ],
   "source": [
    "categorical = [var for var in df.columns if df[var].dtype=='O']\n",
    "print('The categorical variables are :', categorical)\n",
    "for feature in categorical:\n",
    "    print(f\"Number of unique {feature}:\", df[feature].nunique())"
   ]
  },
  {
   "cell_type": "markdown",
   "metadata": {
    "id": "-ze2yxUccccD"
   },
   "source": [
    "`RainTomorrow` является целевым признаком. `RainToday` нетрудно бинаризовать. Остальные признаки содержат большое количество значений.\n",
    "\n",
    "В первом приближении, удалим признаки кроме `RainTomorrow`, `RainToday`. \\\\\n",
    "**Важно:** датасет без категориальных признаков необходимо записать в отдельную переменную `df_numerical`. Исходный набор `df` пригодится в дополнительном задании. \\\\\n",
    "**Бинаризуйте признаки `RainTomorrow`, `RainToday`. Остальные удалите**"
   ]
  },
  {
   "cell_type": "code",
   "execution_count": null,
   "metadata": {
    "id": "YH47PZkocNp3"
   },
   "outputs": [],
   "source": [
    "# YOUR CODE HERE:\n",
    "###########################\n",
    "### ╰( ͡° ͜ʖ ͡° )つ──☆*:・ﾟ\n",
    "###########################\n",
    "# Output: `df_numerical` variable."
   ]
  },
  {
   "cell_type": "markdown",
   "metadata": {
    "id": "veuuC3WCd-4N"
   },
   "source": [
    "Перейдём к численным признакам"
   ]
  },
  {
   "cell_type": "code",
   "execution_count": null,
   "metadata": {
    "colab": {
     "base_uri": "https://localhost:8080/",
     "height": 320
    },
    "executionInfo": {
     "elapsed": 371,
     "status": "ok",
     "timestamp": 1739050276265,
     "user": {
      "displayName": "Сергей Скорик",
      "userId": "16638388598197815420"
     },
     "user_tz": -180
    },
    "id": "WiZglO0bd1GP",
    "outputId": "8eff48ea-b90c-4008-95b8-bf3b41175c20"
   },
   "outputs": [
    {
     "data": {
      "application/vnd.google.colaboratory.intrinsic+json": {
       "summary": "{\n  \"name\": \"round(df_numerical[numerical]\",\n  \"rows\": 8,\n  \"fields\": [\n    {\n      \"column\": \"MinTemp\",\n      \"properties\": {\n        \"dtype\": \"number\",\n        \"std\": 50043.54483773833,\n        \"min\": -8.5,\n        \"max\": 141556.0,\n        \"num_unique_values\": 8,\n        \"samples\": [\n          12.19,\n          12.0,\n          141556.0\n        ],\n        \"semantic_type\": \"\",\n        \"description\": \"\"\n      }\n    },\n    {\n      \"column\": \"MaxTemp\",\n      \"properties\": {\n        \"dtype\": \"number\",\n        \"std\": 50151.78567837766,\n        \"min\": -4.8,\n        \"max\": 141871.0,\n        \"num_unique_values\": 8,\n        \"samples\": [\n          23.23,\n          22.6,\n          141871.0\n        ],\n        \"semantic_type\": \"\",\n        \"description\": \"\"\n      }\n    },\n    {\n      \"column\": \"Rainfall\",\n      \"properties\": {\n        \"dtype\": \"number\",\n        \"std\": 49756.563653933204,\n        \"min\": 0.0,\n        \"max\": 140787.0,\n        \"num_unique_values\": 6,\n        \"samples\": [\n          140787.0,\n          2.35,\n          371.0\n        ],\n        \"semantic_type\": \"\",\n        \"description\": \"\"\n      }\n    },\n    {\n      \"column\": \"Evaporation\",\n      \"properties\": {\n        \"dtype\": \"number\",\n        \"std\": 28753.051669594384,\n        \"min\": 0.0,\n        \"max\": 81350.0,\n        \"num_unique_values\": 8,\n        \"samples\": [\n          5.47,\n          4.8,\n          81350.0\n        ],\n        \"semantic_type\": \"\",\n        \"description\": \"\"\n      }\n    },\n    {\n      \"column\": \"Sunshine\",\n      \"properties\": {\n        \"dtype\": \"number\",\n        \"std\": 26293.720569670917,\n        \"min\": 0.0,\n        \"max\": 74377.0,\n        \"num_unique_values\": 8,\n        \"samples\": [\n          7.62,\n          8.5,\n          74377.0\n        ],\n        \"semantic_type\": \"\",\n        \"description\": \"\"\n      }\n    },\n    {\n      \"column\": \"WindGustSpeed\",\n      \"properties\": {\n        \"dtype\": \"number\",\n        \"std\": 46979.60670019551,\n        \"min\": 6.0,\n        \"max\": 132923.0,\n        \"num_unique_values\": 8,\n        \"samples\": [\n          39.98,\n          39.0,\n          132923.0\n        ],\n        \"semantic_type\": \"\",\n        \"description\": \"\"\n      }\n    },\n    {\n      \"column\": \"WindSpeed9am\",\n      \"properties\": {\n        \"dtype\": \"number\",\n        \"std\": 49786.55331429947,\n        \"min\": 0.0,\n        \"max\": 140845.0,\n        \"num_unique_values\": 8,\n        \"samples\": [\n          14.0,\n          13.0,\n          140845.0\n        ],\n        \"semantic_type\": \"\",\n        \"description\": \"\"\n      }\n    },\n    {\n      \"column\": \"WindSpeed3pm\",\n      \"properties\": {\n        \"dtype\": \"number\",\n        \"std\": 49334.37049810551,\n        \"min\": 0.0,\n        \"max\": 139563.0,\n        \"num_unique_values\": 8,\n        \"samples\": [\n          18.64,\n          19.0,\n          139563.0\n        ],\n        \"semantic_type\": \"\",\n        \"description\": \"\"\n      }\n    },\n    {\n      \"column\": \"Humidity9am\",\n      \"properties\": {\n        \"dtype\": \"number\",\n        \"std\": 49625.52790246609,\n        \"min\": 0.0,\n        \"max\": 140419.0,\n        \"num_unique_values\": 8,\n        \"samples\": [\n          68.84,\n          70.0,\n          140419.0\n        ],\n        \"semantic_type\": \"\",\n        \"description\": \"\"\n      }\n    },\n    {\n      \"column\": \"Humidity3pm\",\n      \"properties\": {\n        \"dtype\": \"number\",\n        \"std\": 48979.968448657804,\n        \"min\": 0.0,\n        \"max\": 138583.0,\n        \"num_unique_values\": 8,\n        \"samples\": [\n          51.48,\n          52.0,\n          138583.0\n        ],\n        \"semantic_type\": \"\",\n        \"description\": \"\"\n      }\n    },\n    {\n      \"column\": \"Pressure9am\",\n      \"properties\": {\n        \"dtype\": \"number\",\n        \"std\": 45011.45173434264,\n        \"min\": 7.11,\n        \"max\": 128179.0,\n        \"num_unique_values\": 8,\n        \"samples\": [\n          1017.65,\n          1017.6,\n          128179.0\n        ],\n        \"semantic_type\": \"\",\n        \"description\": \"\"\n      }\n    },\n    {\n      \"column\": \"Pressure3pm\",\n      \"properties\": {\n        \"dtype\": \"number\",\n        \"std\": 45023.84777894965,\n        \"min\": 7.04,\n        \"max\": 128212.0,\n        \"num_unique_values\": 8,\n        \"samples\": [\n          1015.26,\n          1015.2,\n          128212.0\n        ],\n        \"semantic_type\": \"\",\n        \"description\": \"\"\n      }\n    },\n    {\n      \"column\": \"Cloud9am\",\n      \"properties\": {\n        \"dtype\": \"number\",\n        \"std\": 31300.72174045692,\n        \"min\": 0.0,\n        \"max\": 88536.0,\n        \"num_unique_values\": 8,\n        \"samples\": [\n          4.44,\n          5.0,\n          88536.0\n        ],\n        \"semantic_type\": \"\",\n        \"description\": \"\"\n      }\n    },\n    {\n      \"column\": \"Cloud3pm\",\n      \"properties\": {\n        \"dtype\": \"number\",\n        \"std\": 30085.513778994202,\n        \"min\": 0.0,\n        \"max\": 85099.0,\n        \"num_unique_values\": 8,\n        \"samples\": [\n          4.5,\n          5.0,\n          85099.0\n        ],\n        \"semantic_type\": \"\",\n        \"description\": \"\"\n      }\n    },\n    {\n      \"column\": \"Temp9am\",\n      \"properties\": {\n        \"dtype\": \"number\",\n        \"std\": 49947.798444947075,\n        \"min\": -7.2,\n        \"max\": 141289.0,\n        \"num_unique_values\": 8,\n        \"samples\": [\n          16.99,\n          16.7,\n          141289.0\n        ],\n        \"semantic_type\": \"\",\n        \"description\": \"\"\n      }\n    },\n    {\n      \"column\": \"Temp3pm\",\n      \"properties\": {\n        \"dtype\": \"number\",\n        \"std\": 49302.263477837965,\n        \"min\": -5.4,\n        \"max\": 139467.0,\n        \"num_unique_values\": 8,\n        \"samples\": [\n          21.69,\n          21.1,\n          139467.0\n        ],\n        \"semantic_type\": \"\",\n        \"description\": \"\"\n      }\n    },\n    {\n      \"column\": \"RainToday\",\n      \"properties\": {\n        \"dtype\": \"number\",\n        \"std\": 49775.6383701528,\n        \"min\": 0.0,\n        \"max\": 140787.0,\n        \"num_unique_values\": 5,\n        \"samples\": [\n          0.22,\n          1.0,\n          0.42\n        ],\n        \"semantic_type\": \"\",\n        \"description\": \"\"\n      }\n    },\n    {\n      \"column\": \"RainTomorrow\",\n      \"properties\": {\n        \"dtype\": \"number\",\n        \"std\": 50272.73443731502,\n        \"min\": 0.0,\n        \"max\": 142193.0,\n        \"num_unique_values\": 5,\n        \"samples\": [\n          0.22,\n          1.0,\n          0.42\n        ],\n        \"semantic_type\": \"\",\n        \"description\": \"\"\n      }\n    }\n  ]\n}",
       "type": "dataframe"
      },
      "text/html": [
       "\n",
       "  <div id=\"df-e9ae2781-c8e6-4ce0-8dbb-54ae7398571f\" class=\"colab-df-container\">\n",
       "    <div>\n",
       "<style scoped>\n",
       "    .dataframe tbody tr th:only-of-type {\n",
       "        vertical-align: middle;\n",
       "    }\n",
       "\n",
       "    .dataframe tbody tr th {\n",
       "        vertical-align: top;\n",
       "    }\n",
       "\n",
       "    .dataframe thead th {\n",
       "        text-align: right;\n",
       "    }\n",
       "</style>\n",
       "<table border=\"1\" class=\"dataframe\">\n",
       "  <thead>\n",
       "    <tr style=\"text-align: right;\">\n",
       "      <th></th>\n",
       "      <th>MinTemp</th>\n",
       "      <th>MaxTemp</th>\n",
       "      <th>Rainfall</th>\n",
       "      <th>Evaporation</th>\n",
       "      <th>Sunshine</th>\n",
       "      <th>WindGustSpeed</th>\n",
       "      <th>WindSpeed9am</th>\n",
       "      <th>WindSpeed3pm</th>\n",
       "      <th>Humidity9am</th>\n",
       "      <th>Humidity3pm</th>\n",
       "      <th>Pressure9am</th>\n",
       "      <th>Pressure3pm</th>\n",
       "      <th>Cloud9am</th>\n",
       "      <th>Cloud3pm</th>\n",
       "      <th>Temp9am</th>\n",
       "      <th>Temp3pm</th>\n",
       "      <th>RainToday</th>\n",
       "      <th>RainTomorrow</th>\n",
       "    </tr>\n",
       "  </thead>\n",
       "  <tbody>\n",
       "    <tr>\n",
       "      <th>count</th>\n",
       "      <td>141556.00</td>\n",
       "      <td>141871.00</td>\n",
       "      <td>140787.00</td>\n",
       "      <td>81350.00</td>\n",
       "      <td>74377.00</td>\n",
       "      <td>132923.00</td>\n",
       "      <td>140845.00</td>\n",
       "      <td>139563.00</td>\n",
       "      <td>140419.00</td>\n",
       "      <td>138583.00</td>\n",
       "      <td>128179.00</td>\n",
       "      <td>128212.00</td>\n",
       "      <td>88536.00</td>\n",
       "      <td>85099.00</td>\n",
       "      <td>141289.00</td>\n",
       "      <td>139467.00</td>\n",
       "      <td>140787.00</td>\n",
       "      <td>142193.00</td>\n",
       "    </tr>\n",
       "    <tr>\n",
       "      <th>mean</th>\n",
       "      <td>12.19</td>\n",
       "      <td>23.23</td>\n",
       "      <td>2.35</td>\n",
       "      <td>5.47</td>\n",
       "      <td>7.62</td>\n",
       "      <td>39.98</td>\n",
       "      <td>14.00</td>\n",
       "      <td>18.64</td>\n",
       "      <td>68.84</td>\n",
       "      <td>51.48</td>\n",
       "      <td>1017.65</td>\n",
       "      <td>1015.26</td>\n",
       "      <td>4.44</td>\n",
       "      <td>4.50</td>\n",
       "      <td>16.99</td>\n",
       "      <td>21.69</td>\n",
       "      <td>0.22</td>\n",
       "      <td>0.22</td>\n",
       "    </tr>\n",
       "    <tr>\n",
       "      <th>std</th>\n",
       "      <td>6.40</td>\n",
       "      <td>7.12</td>\n",
       "      <td>8.47</td>\n",
       "      <td>4.19</td>\n",
       "      <td>3.78</td>\n",
       "      <td>13.59</td>\n",
       "      <td>8.89</td>\n",
       "      <td>8.80</td>\n",
       "      <td>19.05</td>\n",
       "      <td>20.80</td>\n",
       "      <td>7.11</td>\n",
       "      <td>7.04</td>\n",
       "      <td>2.89</td>\n",
       "      <td>2.72</td>\n",
       "      <td>6.49</td>\n",
       "      <td>6.94</td>\n",
       "      <td>0.42</td>\n",
       "      <td>0.42</td>\n",
       "    </tr>\n",
       "    <tr>\n",
       "      <th>min</th>\n",
       "      <td>-8.50</td>\n",
       "      <td>-4.80</td>\n",
       "      <td>0.00</td>\n",
       "      <td>0.00</td>\n",
       "      <td>0.00</td>\n",
       "      <td>6.00</td>\n",
       "      <td>0.00</td>\n",
       "      <td>0.00</td>\n",
       "      <td>0.00</td>\n",
       "      <td>0.00</td>\n",
       "      <td>980.50</td>\n",
       "      <td>977.10</td>\n",
       "      <td>0.00</td>\n",
       "      <td>0.00</td>\n",
       "      <td>-7.20</td>\n",
       "      <td>-5.40</td>\n",
       "      <td>0.00</td>\n",
       "      <td>0.00</td>\n",
       "    </tr>\n",
       "    <tr>\n",
       "      <th>25%</th>\n",
       "      <td>7.60</td>\n",
       "      <td>17.90</td>\n",
       "      <td>0.00</td>\n",
       "      <td>2.60</td>\n",
       "      <td>4.90</td>\n",
       "      <td>31.00</td>\n",
       "      <td>7.00</td>\n",
       "      <td>13.00</td>\n",
       "      <td>57.00</td>\n",
       "      <td>37.00</td>\n",
       "      <td>1012.90</td>\n",
       "      <td>1010.40</td>\n",
       "      <td>1.00</td>\n",
       "      <td>2.00</td>\n",
       "      <td>12.30</td>\n",
       "      <td>16.60</td>\n",
       "      <td>0.00</td>\n",
       "      <td>0.00</td>\n",
       "    </tr>\n",
       "    <tr>\n",
       "      <th>50%</th>\n",
       "      <td>12.00</td>\n",
       "      <td>22.60</td>\n",
       "      <td>0.00</td>\n",
       "      <td>4.80</td>\n",
       "      <td>8.50</td>\n",
       "      <td>39.00</td>\n",
       "      <td>13.00</td>\n",
       "      <td>19.00</td>\n",
       "      <td>70.00</td>\n",
       "      <td>52.00</td>\n",
       "      <td>1017.60</td>\n",
       "      <td>1015.20</td>\n",
       "      <td>5.00</td>\n",
       "      <td>5.00</td>\n",
       "      <td>16.70</td>\n",
       "      <td>21.10</td>\n",
       "      <td>0.00</td>\n",
       "      <td>0.00</td>\n",
       "    </tr>\n",
       "    <tr>\n",
       "      <th>75%</th>\n",
       "      <td>16.80</td>\n",
       "      <td>28.20</td>\n",
       "      <td>0.80</td>\n",
       "      <td>7.40</td>\n",
       "      <td>10.60</td>\n",
       "      <td>48.00</td>\n",
       "      <td>19.00</td>\n",
       "      <td>24.00</td>\n",
       "      <td>83.00</td>\n",
       "      <td>66.00</td>\n",
       "      <td>1022.40</td>\n",
       "      <td>1020.00</td>\n",
       "      <td>7.00</td>\n",
       "      <td>7.00</td>\n",
       "      <td>21.60</td>\n",
       "      <td>26.40</td>\n",
       "      <td>0.00</td>\n",
       "      <td>0.00</td>\n",
       "    </tr>\n",
       "    <tr>\n",
       "      <th>max</th>\n",
       "      <td>33.90</td>\n",
       "      <td>48.10</td>\n",
       "      <td>371.00</td>\n",
       "      <td>145.00</td>\n",
       "      <td>14.50</td>\n",
       "      <td>135.00</td>\n",
       "      <td>130.00</td>\n",
       "      <td>87.00</td>\n",
       "      <td>100.00</td>\n",
       "      <td>100.00</td>\n",
       "      <td>1041.00</td>\n",
       "      <td>1039.60</td>\n",
       "      <td>9.00</td>\n",
       "      <td>9.00</td>\n",
       "      <td>40.20</td>\n",
       "      <td>46.70</td>\n",
       "      <td>1.00</td>\n",
       "      <td>1.00</td>\n",
       "    </tr>\n",
       "  </tbody>\n",
       "</table>\n",
       "</div>\n",
       "    <div class=\"colab-df-buttons\">\n",
       "\n",
       "  <div class=\"colab-df-container\">\n",
       "    <button class=\"colab-df-convert\" onclick=\"convertToInteractive('df-e9ae2781-c8e6-4ce0-8dbb-54ae7398571f')\"\n",
       "            title=\"Convert this dataframe to an interactive table.\"\n",
       "            style=\"display:none;\">\n",
       "\n",
       "  <svg xmlns=\"http://www.w3.org/2000/svg\" height=\"24px\" viewBox=\"0 -960 960 960\">\n",
       "    <path d=\"M120-120v-720h720v720H120Zm60-500h600v-160H180v160Zm220 220h160v-160H400v160Zm0 220h160v-160H400v160ZM180-400h160v-160H180v160Zm440 0h160v-160H620v160ZM180-180h160v-160H180v160Zm440 0h160v-160H620v160Z\"/>\n",
       "  </svg>\n",
       "    </button>\n",
       "\n",
       "  <style>\n",
       "    .colab-df-container {\n",
       "      display:flex;\n",
       "      gap: 12px;\n",
       "    }\n",
       "\n",
       "    .colab-df-convert {\n",
       "      background-color: #E8F0FE;\n",
       "      border: none;\n",
       "      border-radius: 50%;\n",
       "      cursor: pointer;\n",
       "      display: none;\n",
       "      fill: #1967D2;\n",
       "      height: 32px;\n",
       "      padding: 0 0 0 0;\n",
       "      width: 32px;\n",
       "    }\n",
       "\n",
       "    .colab-df-convert:hover {\n",
       "      background-color: #E2EBFA;\n",
       "      box-shadow: 0px 1px 2px rgba(60, 64, 67, 0.3), 0px 1px 3px 1px rgba(60, 64, 67, 0.15);\n",
       "      fill: #174EA6;\n",
       "    }\n",
       "\n",
       "    .colab-df-buttons div {\n",
       "      margin-bottom: 4px;\n",
       "    }\n",
       "\n",
       "    [theme=dark] .colab-df-convert {\n",
       "      background-color: #3B4455;\n",
       "      fill: #D2E3FC;\n",
       "    }\n",
       "\n",
       "    [theme=dark] .colab-df-convert:hover {\n",
       "      background-color: #434B5C;\n",
       "      box-shadow: 0px 1px 3px 1px rgba(0, 0, 0, 0.15);\n",
       "      filter: drop-shadow(0px 1px 2px rgba(0, 0, 0, 0.3));\n",
       "      fill: #FFFFFF;\n",
       "    }\n",
       "  </style>\n",
       "\n",
       "    <script>\n",
       "      const buttonEl =\n",
       "        document.querySelector('#df-e9ae2781-c8e6-4ce0-8dbb-54ae7398571f button.colab-df-convert');\n",
       "      buttonEl.style.display =\n",
       "        google.colab.kernel.accessAllowed ? 'block' : 'none';\n",
       "\n",
       "      async function convertToInteractive(key) {\n",
       "        const element = document.querySelector('#df-e9ae2781-c8e6-4ce0-8dbb-54ae7398571f');\n",
       "        const dataTable =\n",
       "          await google.colab.kernel.invokeFunction('convertToInteractive',\n",
       "                                                    [key], {});\n",
       "        if (!dataTable) return;\n",
       "\n",
       "        const docLinkHtml = 'Like what you see? Visit the ' +\n",
       "          '<a target=\"_blank\" href=https://colab.research.google.com/notebooks/data_table.ipynb>data table notebook</a>'\n",
       "          + ' to learn more about interactive tables.';\n",
       "        element.innerHTML = '';\n",
       "        dataTable['output_type'] = 'display_data';\n",
       "        await google.colab.output.renderOutput(dataTable, element);\n",
       "        const docLink = document.createElement('div');\n",
       "        docLink.innerHTML = docLinkHtml;\n",
       "        element.appendChild(docLink);\n",
       "      }\n",
       "    </script>\n",
       "  </div>\n",
       "\n",
       "\n",
       "<div id=\"df-a102710d-9fa8-4691-8eb1-d2b424e6c3c7\">\n",
       "  <button class=\"colab-df-quickchart\" onclick=\"quickchart('df-a102710d-9fa8-4691-8eb1-d2b424e6c3c7')\"\n",
       "            title=\"Suggest charts\"\n",
       "            style=\"display:none;\">\n",
       "\n",
       "<svg xmlns=\"http://www.w3.org/2000/svg\" height=\"24px\"viewBox=\"0 0 24 24\"\n",
       "     width=\"24px\">\n",
       "    <g>\n",
       "        <path d=\"M19 3H5c-1.1 0-2 .9-2 2v14c0 1.1.9 2 2 2h14c1.1 0 2-.9 2-2V5c0-1.1-.9-2-2-2zM9 17H7v-7h2v7zm4 0h-2V7h2v10zm4 0h-2v-4h2v4z\"/>\n",
       "    </g>\n",
       "</svg>\n",
       "  </button>\n",
       "\n",
       "<style>\n",
       "  .colab-df-quickchart {\n",
       "      --bg-color: #E8F0FE;\n",
       "      --fill-color: #1967D2;\n",
       "      --hover-bg-color: #E2EBFA;\n",
       "      --hover-fill-color: #174EA6;\n",
       "      --disabled-fill-color: #AAA;\n",
       "      --disabled-bg-color: #DDD;\n",
       "  }\n",
       "\n",
       "  [theme=dark] .colab-df-quickchart {\n",
       "      --bg-color: #3B4455;\n",
       "      --fill-color: #D2E3FC;\n",
       "      --hover-bg-color: #434B5C;\n",
       "      --hover-fill-color: #FFFFFF;\n",
       "      --disabled-bg-color: #3B4455;\n",
       "      --disabled-fill-color: #666;\n",
       "  }\n",
       "\n",
       "  .colab-df-quickchart {\n",
       "    background-color: var(--bg-color);\n",
       "    border: none;\n",
       "    border-radius: 50%;\n",
       "    cursor: pointer;\n",
       "    display: none;\n",
       "    fill: var(--fill-color);\n",
       "    height: 32px;\n",
       "    padding: 0;\n",
       "    width: 32px;\n",
       "  }\n",
       "\n",
       "  .colab-df-quickchart:hover {\n",
       "    background-color: var(--hover-bg-color);\n",
       "    box-shadow: 0 1px 2px rgba(60, 64, 67, 0.3), 0 1px 3px 1px rgba(60, 64, 67, 0.15);\n",
       "    fill: var(--button-hover-fill-color);\n",
       "  }\n",
       "\n",
       "  .colab-df-quickchart-complete:disabled,\n",
       "  .colab-df-quickchart-complete:disabled:hover {\n",
       "    background-color: var(--disabled-bg-color);\n",
       "    fill: var(--disabled-fill-color);\n",
       "    box-shadow: none;\n",
       "  }\n",
       "\n",
       "  .colab-df-spinner {\n",
       "    border: 2px solid var(--fill-color);\n",
       "    border-color: transparent;\n",
       "    border-bottom-color: var(--fill-color);\n",
       "    animation:\n",
       "      spin 1s steps(1) infinite;\n",
       "  }\n",
       "\n",
       "  @keyframes spin {\n",
       "    0% {\n",
       "      border-color: transparent;\n",
       "      border-bottom-color: var(--fill-color);\n",
       "      border-left-color: var(--fill-color);\n",
       "    }\n",
       "    20% {\n",
       "      border-color: transparent;\n",
       "      border-left-color: var(--fill-color);\n",
       "      border-top-color: var(--fill-color);\n",
       "    }\n",
       "    30% {\n",
       "      border-color: transparent;\n",
       "      border-left-color: var(--fill-color);\n",
       "      border-top-color: var(--fill-color);\n",
       "      border-right-color: var(--fill-color);\n",
       "    }\n",
       "    40% {\n",
       "      border-color: transparent;\n",
       "      border-right-color: var(--fill-color);\n",
       "      border-top-color: var(--fill-color);\n",
       "    }\n",
       "    60% {\n",
       "      border-color: transparent;\n",
       "      border-right-color: var(--fill-color);\n",
       "    }\n",
       "    80% {\n",
       "      border-color: transparent;\n",
       "      border-right-color: var(--fill-color);\n",
       "      border-bottom-color: var(--fill-color);\n",
       "    }\n",
       "    90% {\n",
       "      border-color: transparent;\n",
       "      border-bottom-color: var(--fill-color);\n",
       "    }\n",
       "  }\n",
       "</style>\n",
       "\n",
       "  <script>\n",
       "    async function quickchart(key) {\n",
       "      const quickchartButtonEl =\n",
       "        document.querySelector('#' + key + ' button');\n",
       "      quickchartButtonEl.disabled = true;  // To prevent multiple clicks.\n",
       "      quickchartButtonEl.classList.add('colab-df-spinner');\n",
       "      try {\n",
       "        const charts = await google.colab.kernel.invokeFunction(\n",
       "            'suggestCharts', [key], {});\n",
       "      } catch (error) {\n",
       "        console.error('Error during call to suggestCharts:', error);\n",
       "      }\n",
       "      quickchartButtonEl.classList.remove('colab-df-spinner');\n",
       "      quickchartButtonEl.classList.add('colab-df-quickchart-complete');\n",
       "    }\n",
       "    (() => {\n",
       "      let quickchartButtonEl =\n",
       "        document.querySelector('#df-a102710d-9fa8-4691-8eb1-d2b424e6c3c7 button');\n",
       "      quickchartButtonEl.style.display =\n",
       "        google.colab.kernel.accessAllowed ? 'block' : 'none';\n",
       "    })();\n",
       "  </script>\n",
       "</div>\n",
       "    </div>\n",
       "  </div>\n"
      ],
      "text/plain": [
       "         MinTemp    MaxTemp   Rainfall  Evaporation  Sunshine  WindGustSpeed  \\\n",
       "count  141556.00  141871.00  140787.00     81350.00  74377.00      132923.00   \n",
       "mean       12.19      23.23       2.35         5.47      7.62          39.98   \n",
       "std         6.40       7.12       8.47         4.19      3.78          13.59   \n",
       "min        -8.50      -4.80       0.00         0.00      0.00           6.00   \n",
       "25%         7.60      17.90       0.00         2.60      4.90          31.00   \n",
       "50%        12.00      22.60       0.00         4.80      8.50          39.00   \n",
       "75%        16.80      28.20       0.80         7.40     10.60          48.00   \n",
       "max        33.90      48.10     371.00       145.00     14.50         135.00   \n",
       "\n",
       "       WindSpeed9am  WindSpeed3pm  Humidity9am  Humidity3pm  Pressure9am  \\\n",
       "count     140845.00     139563.00    140419.00    138583.00    128179.00   \n",
       "mean          14.00         18.64        68.84        51.48      1017.65   \n",
       "std            8.89          8.80        19.05        20.80         7.11   \n",
       "min            0.00          0.00         0.00         0.00       980.50   \n",
       "25%            7.00         13.00        57.00        37.00      1012.90   \n",
       "50%           13.00         19.00        70.00        52.00      1017.60   \n",
       "75%           19.00         24.00        83.00        66.00      1022.40   \n",
       "max          130.00         87.00       100.00       100.00      1041.00   \n",
       "\n",
       "       Pressure3pm  Cloud9am  Cloud3pm    Temp9am    Temp3pm  RainToday  \\\n",
       "count    128212.00  88536.00  85099.00  141289.00  139467.00  140787.00   \n",
       "mean       1015.26      4.44      4.50      16.99      21.69       0.22   \n",
       "std           7.04      2.89      2.72       6.49       6.94       0.42   \n",
       "min         977.10      0.00      0.00      -7.20      -5.40       0.00   \n",
       "25%        1010.40      1.00      2.00      12.30      16.60       0.00   \n",
       "50%        1015.20      5.00      5.00      16.70      21.10       0.00   \n",
       "75%        1020.00      7.00      7.00      21.60      26.40       0.00   \n",
       "max        1039.60      9.00      9.00      40.20      46.70       1.00   \n",
       "\n",
       "       RainTomorrow  \n",
       "count     142193.00  \n",
       "mean           0.22  \n",
       "std            0.42  \n",
       "min            0.00  \n",
       "25%            0.00  \n",
       "50%            0.00  \n",
       "75%            0.00  \n",
       "max            1.00  "
      ]
     },
     "execution_count": 9,
     "metadata": {},
     "output_type": "execute_result"
    }
   ],
   "source": [
    "numerical = [var for var in df.columns if df[var].dtype!='O']\n",
    "round(df_numerical[numerical].describe(), 2)"
   ]
  },
  {
   "cell_type": "markdown",
   "metadata": {
    "id": "B8Hpde1JebBc"
   },
   "source": [
    "Одним из важных аспектов обработки численных признаков является *опеределние выбросов (англ. outliers)*. С одной стороны, выбросы можно выделить для всех признаков. Однако, бывает полезно изучить, для каких фичей они более характерны. Это позволит избежать потери важной информации.\n",
    "\n",
    "**Вам необходимо определить, для каких из численных признаков имеет смысл выделять выбросы.** \\\\\n",
    "**Примечание:** Это можно сделать с помощью графика гистограммы. Отрисуйте зависимости всех числовых признаков от целевого `RainTomorrow`. По оси x отложите значения признака, по оси y -- плотность `RainTomorrow` (в результате на рисунке будут 2 графика для каждого из бинарных значений). Для этого воспользуйтесь функцией `seaborn.histplot` с аргументом `stat='density'`. По виду графика можно интерпретировать, для каких признаков существуют значительные выбросы."
   ]
  },
  {
   "cell_type": "code",
   "execution_count": null,
   "metadata": {
    "id": "huIqlmCSeayT"
   },
   "outputs": [],
   "source": [
    "# YOUR CODE HERE:\n",
    "###########################\n",
    "### ╰( ͡° ͜ʖ ͡° )つ──☆*:・ﾟ\n",
    "###########################"
   ]
  },
  {
   "cell_type": "markdown",
   "metadata": {
    "id": "lT0FdwS5h6z6"
   },
   "source": [
    "Графики признаков с выбросами имеют характерное *смещение (англ. skew)*. Для смещённых распределений, выбросы можно определить через *межквартильное расстояние (англ. Interquartile Range).*\n",
    "$$\n",
    "IQR = Q3 - Q1,\n",
    "$$\n",
    "где $Q3$ -- третий квартиль, соответствующий порогу $75\\%$, $Q1$ -- первый квартиль, соответствующий порогу $25\\%$.\n",
    "\n",
    "Тогда выбросы определяют согласно правилу:\n",
    "*  *Нижний выброс* -- $x < Q1 - 1.5\\cdot IQR$, $x$ -- значение признака;\n",
    "*  *Верхний выброс* -- $x > Q3 + 1.5\\cdot IQR$.\n",
    "\n",
    "Если в результате получилось слишком много выбросов, значение $1.5$ можно увеличить, выделяя более \"явные\"."
   ]
  },
  {
   "cell_type": "markdown",
   "metadata": {
    "id": "cPrLB3iykBv4"
   },
   "source": [
    "**Для полученных числовых признаков выделите соответствующие выбросы с помощью $IQR$ с коэффициентом 2**."
   ]
  },
  {
   "cell_type": "code",
   "execution_count": null,
   "metadata": {
    "id": "dBLSRDJ1lAJw"
   },
   "outputs": [],
   "source": [
    "# YOUR CODE HERE:\n",
    "###########################\n",
    "### ╰( ͡° ͜ʖ ͡° )つ──☆*:・ﾟ\n",
    "###########################\n",
    "# Output: `outliers` variable."
   ]
  },
  {
   "cell_type": "markdown",
   "metadata": {
    "id": "L8TcIkOmk_pp"
   },
   "source": [
    "Есть 2 стратегии работы с выбросами:\n",
    "*   Удалить соответствующий сэмпл;\n",
    "*   Заменить его на среднее/медиану.\n",
    "\n",
    "В первом приближении, удалим соответствующие примеры."
   ]
  },
  {
   "cell_type": "code",
   "execution_count": null,
   "metadata": {
    "id": "0uPoXMilll-x"
   },
   "outputs": [],
   "source": [
    "df_num_no_outliers = df_numerical[~outliers.any(axis=1)].reset_index(drop=True)"
   ]
  },
  {
   "cell_type": "markdown",
   "metadata": {
    "id": "7X3ae17Nluxq"
   },
   "source": [
    "Базовый анализ датасета почти закончен! Осталось пара шагов 🤗 \\\\\n",
    "Выделим целевой признак в соответствующую переменную. Посмотрим на пропуски в обучающей выборке."
   ]
  },
  {
   "cell_type": "code",
   "execution_count": null,
   "metadata": {
    "colab": {
     "base_uri": "https://localhost:8080/",
     "height": 617
    },
    "executionInfo": {
     "elapsed": 21,
     "status": "ok",
     "timestamp": 1739052445933,
     "user": {
      "displayName": "Сергей Скорик",
      "userId": "16638388598197815420"
     },
     "user_tz": -180
    },
    "id": "NNpETm7slvGK",
    "outputId": "6cb14573-d2e6-4e22-bce9-76a4b516896e"
   },
   "outputs": [
    {
     "data": {
      "text/html": [
       "<div>\n",
       "<style scoped>\n",
       "    .dataframe tbody tr th:only-of-type {\n",
       "        vertical-align: middle;\n",
       "    }\n",
       "\n",
       "    .dataframe tbody tr th {\n",
       "        vertical-align: top;\n",
       "    }\n",
       "\n",
       "    .dataframe thead th {\n",
       "        text-align: right;\n",
       "    }\n",
       "</style>\n",
       "<table border=\"1\" class=\"dataframe\">\n",
       "  <thead>\n",
       "    <tr style=\"text-align: right;\">\n",
       "      <th></th>\n",
       "      <th>0</th>\n",
       "    </tr>\n",
       "  </thead>\n",
       "  <tbody>\n",
       "    <tr>\n",
       "      <th>MinTemp</th>\n",
       "      <td>520</td>\n",
       "    </tr>\n",
       "    <tr>\n",
       "      <th>MaxTemp</th>\n",
       "      <td>248</td>\n",
       "    </tr>\n",
       "    <tr>\n",
       "      <th>Rainfall</th>\n",
       "      <td>1399</td>\n",
       "    </tr>\n",
       "    <tr>\n",
       "      <th>Evaporation</th>\n",
       "      <td>44504</td>\n",
       "    </tr>\n",
       "    <tr>\n",
       "      <th>Sunshine</th>\n",
       "      <td>49866</td>\n",
       "    </tr>\n",
       "    <tr>\n",
       "      <th>WindGustSpeed</th>\n",
       "      <td>6403</td>\n",
       "    </tr>\n",
       "    <tr>\n",
       "      <th>WindSpeed9am</th>\n",
       "      <td>1064</td>\n",
       "    </tr>\n",
       "    <tr>\n",
       "      <th>WindSpeed3pm</th>\n",
       "      <td>1832</td>\n",
       "    </tr>\n",
       "    <tr>\n",
       "      <th>Humidity9am</th>\n",
       "      <td>1235</td>\n",
       "    </tr>\n",
       "    <tr>\n",
       "      <th>Humidity3pm</th>\n",
       "      <td>2515</td>\n",
       "    </tr>\n",
       "    <tr>\n",
       "      <th>Pressure9am</th>\n",
       "      <td>10313</td>\n",
       "    </tr>\n",
       "    <tr>\n",
       "      <th>Pressure3pm</th>\n",
       "      <td>10277</td>\n",
       "    </tr>\n",
       "    <tr>\n",
       "      <th>Cloud9am</th>\n",
       "      <td>40655</td>\n",
       "    </tr>\n",
       "    <tr>\n",
       "      <th>Cloud3pm</th>\n",
       "      <td>43145</td>\n",
       "    </tr>\n",
       "    <tr>\n",
       "      <th>Temp9am</th>\n",
       "      <td>654</td>\n",
       "    </tr>\n",
       "    <tr>\n",
       "      <th>Temp3pm</th>\n",
       "      <td>1905</td>\n",
       "    </tr>\n",
       "    <tr>\n",
       "      <th>RainToday</th>\n",
       "      <td>1399</td>\n",
       "    </tr>\n",
       "  </tbody>\n",
       "</table>\n",
       "</div><br><label><b>dtype:</b> int64</label>"
      ],
      "text/plain": [
       "MinTemp            520\n",
       "MaxTemp            248\n",
       "Rainfall          1399\n",
       "Evaporation      44504\n",
       "Sunshine         49866\n",
       "WindGustSpeed     6403\n",
       "WindSpeed9am      1064\n",
       "WindSpeed3pm      1832\n",
       "Humidity9am       1235\n",
       "Humidity3pm       2515\n",
       "Pressure9am      10313\n",
       "Pressure3pm      10277\n",
       "Cloud9am         40655\n",
       "Cloud3pm         43145\n",
       "Temp9am            654\n",
       "Temp3pm           1905\n",
       "RainToday         1399\n",
       "dtype: int64"
      ]
     },
     "execution_count": 26,
     "metadata": {},
     "output_type": "execute_result"
    }
   ],
   "source": [
    "X = df_num_no_outliers.drop(['RainTomorrow'], axis=1)\n",
    "y = df_num_no_outliers['RainTomorrow']\n",
    "X.isnull().sum()"
   ]
  },
  {
   "cell_type": "markdown",
   "metadata": {
    "id": "5opdEnzkmoBJ"
   },
   "source": [
    "Пропуски необходимо заполнить. Обычно это делают с помощью среднего/медианы. Мы воспользуемся медианой, так как она более устойчива к выбросам.\n",
    "\n",
    "**Заполните пропуски в обучающей выборке медианой.**"
   ]
  },
  {
   "cell_type": "code",
   "execution_count": null,
   "metadata": {
    "id": "U_sQsrW5mn15"
   },
   "outputs": [],
   "source": [
    "# YOUR CODE HERE:\n",
    "###########################\n",
    "### ╰( ͡° ͜ʖ ͡° )つ──☆*:・ﾟ\n",
    "###########################"
   ]
  },
  {
   "cell_type": "markdown",
   "metadata": {
    "id": "BZDhx2D7nAXx"
   },
   "source": [
    "Наконец, осталось провести нормализацию значений."
   ]
  },
  {
   "cell_type": "markdown",
   "metadata": {
    "id": "qu-vZZCvnKjS"
   },
   "source": [
    "Разделим выборку на обучающую и тестовую, чтобы не учитывать масштаб на тесте."
   ]
  },
  {
   "cell_type": "code",
   "execution_count": null,
   "metadata": {
    "colab": {
     "base_uri": "https://localhost:8080/",
     "height": 320
    },
    "executionInfo": {
     "elapsed": 202,
     "status": "ok",
     "timestamp": 1739052623281,
     "user": {
      "displayName": "Сергей Скорик",
      "userId": "16638388598197815420"
     },
     "user_tz": -180
    },
    "id": "yjVHcNUHnAK7",
    "outputId": "e67f57a2-7857-4faa-9aec-5fa00c8a40cd"
   },
   "outputs": [
    {
     "data": {
      "application/vnd.google.colaboratory.intrinsic+json": {
       "summary": "{\n  \"name\": \"X_train\",\n  \"rows\": 8,\n  \"fields\": [\n    {\n      \"column\": \"MinTemp\",\n      \"properties\": {\n        \"dtype\": \"number\",\n        \"std\": 29336.998797434557,\n        \"min\": -8.2,\n        \"max\": 82989.0,\n        \"num_unique_values\": 8,\n        \"samples\": [\n          12.005007892612273,\n          11.9,\n          82989.0\n        ],\n        \"semantic_type\": \"\",\n        \"description\": \"\"\n      }\n    },\n    {\n      \"column\": \"MaxTemp\",\n      \"properties\": {\n        \"dtype\": \"number\",\n        \"std\": 29333.559476166643,\n        \"min\": -2.7,\n        \"max\": 82989.0,\n        \"num_unique_values\": 8,\n        \"samples\": [\n          24.312870380411862,\n          23.9,\n          82989.0\n        ],\n        \"semantic_type\": \"\",\n        \"description\": \"\"\n      }\n    },\n    {\n      \"column\": \"Rainfall\",\n      \"properties\": {\n        \"dtype\": \"number\",\n        \"std\": 29341.0159664195,\n        \"min\": 0.0,\n        \"max\": 82989.0,\n        \"num_unique_values\": 5,\n        \"samples\": [\n          0.03150658521008808,\n          0.4,\n          0.09051046916689891\n        ],\n        \"semantic_type\": \"\",\n        \"description\": \"\"\n      }\n    },\n    {\n      \"column\": \"Evaporation\",\n      \"properties\": {\n        \"dtype\": \"number\",\n        \"std\": 29338.70236058497,\n        \"min\": 0.0,\n        \"max\": 82989.0,\n        \"num_unique_values\": 8,\n        \"samples\": [\n          5.652672040872888,\n          5.4,\n          82989.0\n        ],\n        \"semantic_type\": \"\",\n        \"description\": \"\"\n      }\n    },\n    {\n      \"column\": \"Sunshine\",\n      \"properties\": {\n        \"dtype\": \"number\",\n        \"std\": 29338.300498099285,\n        \"min\": 0.0,\n        \"max\": 82989.0,\n        \"num_unique_values\": 8,\n        \"samples\": [\n          8.907943221390788,\n          9.4,\n          82989.0\n        ],\n        \"semantic_type\": \"\",\n        \"description\": \"\"\n      }\n    },\n    {\n      \"column\": \"WindGustSpeed\",\n      \"properties\": {\n        \"dtype\": \"number\",\n        \"std\": 29327.731587525563,\n        \"min\": 7.0,\n        \"max\": 82989.0,\n        \"num_unique_values\": 8,\n        \"samples\": [\n          38.557989613081254,\n          37.0,\n          82989.0\n        ],\n        \"semantic_type\": \"\",\n        \"description\": \"\"\n      }\n    },\n    {\n      \"column\": \"WindSpeed9am\",\n      \"properties\": {\n        \"dtype\": \"number\",\n        \"std\": 29335.24294208693,\n        \"min\": 0.0,\n        \"max\": 82989.0,\n        \"num_unique_values\": 8,\n        \"samples\": [\n          13.411054477099375,\n          13.0,\n          82989.0\n        ],\n        \"semantic_type\": \"\",\n        \"description\": \"\"\n      }\n    },\n    {\n      \"column\": \"WindSpeed3pm\",\n      \"properties\": {\n        \"dtype\": \"number\",\n        \"std\": 29334.099024993542,\n        \"min\": 0.0,\n        \"max\": 82989.0,\n        \"num_unique_values\": 8,\n        \"samples\": [\n          18.147718372314404,\n          17.0,\n          82989.0\n        ],\n        \"semantic_type\": \"\",\n        \"description\": \"\"\n      }\n    },\n    {\n      \"column\": \"Humidity9am\",\n      \"properties\": {\n        \"dtype\": \"number\",\n        \"std\": 29321.903139696646,\n        \"min\": 0.0,\n        \"max\": 82989.0,\n        \"num_unique_values\": 8,\n        \"samples\": [\n          64.62261263540951,\n          66.0,\n          82989.0\n        ],\n        \"semantic_type\": \"\",\n        \"description\": \"\"\n      }\n    },\n    {\n      \"column\": \"Humidity3pm\",\n      \"properties\": {\n        \"dtype\": \"number\",\n        \"std\": 29325.654499619333,\n        \"min\": 0.0,\n        \"max\": 82989.0,\n        \"num_unique_values\": 8,\n        \"samples\": [\n          46.59088553904734,\n          47.0,\n          82989.0\n        ],\n        \"semantic_type\": \"\",\n        \"description\": \"\"\n      }\n    },\n    {\n      \"column\": \"Pressure9am\",\n      \"properties\": {\n        \"dtype\": \"number\",\n        \"std\": 29034.804847085168,\n        \"min\": 6.357521042684549,\n        \"max\": 82989.0,\n        \"num_unique_values\": 8,\n        \"samples\": [\n          1018.4242321271493,\n          1018.3,\n          82989.0\n        ],\n        \"semantic_type\": \"\",\n        \"description\": \"\"\n      }\n    },\n    {\n      \"column\": \"Pressure3pm\",\n      \"properties\": {\n        \"dtype\": \"number\",\n        \"std\": 29035.709848482024,\n        \"min\": 6.371438303782415,\n        \"max\": 82989.0,\n        \"num_unique_values\": 8,\n        \"samples\": [\n          1015.6428755618214,\n          1015.5,\n          82989.0\n        ],\n        \"semantic_type\": \"\",\n        \"description\": \"\"\n      }\n    },\n    {\n      \"column\": \"Cloud9am\",\n      \"properties\": {\n        \"dtype\": \"number\",\n        \"std\": 29339.721593883332,\n        \"min\": 0.0,\n        \"max\": 82989.0,\n        \"num_unique_values\": 8,\n        \"samples\": [\n          3.905854992830375,\n          4.0,\n          82989.0\n        ],\n        \"semantic_type\": \"\",\n        \"description\": \"\"\n      }\n    },\n    {\n      \"column\": \"Cloud3pm\",\n      \"properties\": {\n        \"dtype\": \"number\",\n        \"std\": 29339.673750694325,\n        \"min\": 0.0,\n        \"max\": 82989.0,\n        \"num_unique_values\": 8,\n        \"samples\": [\n          4.005012712528166,\n          4.0,\n          82989.0\n        ],\n        \"semantic_type\": \"\",\n        \"description\": \"\"\n      }\n    },\n    {\n      \"column\": \"Temp9am\",\n      \"properties\": {\n        \"dtype\": \"number\",\n        \"std\": 29335.434645148674,\n        \"min\": -5.3,\n        \"max\": 82989.0,\n        \"num_unique_values\": 8,\n        \"samples\": [\n          17.43388400872405,\n          17.3,\n          82989.0\n        ],\n        \"semantic_type\": \"\",\n        \"description\": \"\"\n      }\n    },\n    {\n      \"column\": \"Temp3pm\",\n      \"properties\": {\n        \"dtype\": \"number\",\n        \"std\": 29333.938085477395,\n        \"min\": -3.1,\n        \"max\": 82989.0,\n        \"num_unique_values\": 8,\n        \"samples\": [\n          22.76341322343925,\n          22.3,\n          82989.0\n        ],\n        \"semantic_type\": \"\",\n        \"description\": \"\"\n      }\n    },\n    {\n      \"column\": \"RainToday\",\n      \"properties\": {\n        \"dtype\": \"number\",\n        \"std\": 29341.042331945195,\n        \"min\": 0.0,\n        \"max\": 82989.0,\n        \"num_unique_values\": 2,\n        \"samples\": [\n          0.0,\n          82989.0\n        ],\n        \"semantic_type\": \"\",\n        \"description\": \"\"\n      }\n    }\n  ]\n}",
       "type": "dataframe"
      },
      "text/html": [
       "\n",
       "  <div id=\"df-ea17888f-a068-409c-8b7a-b329f092df75\" class=\"colab-df-container\">\n",
       "    <div>\n",
       "<style scoped>\n",
       "    .dataframe tbody tr th:only-of-type {\n",
       "        vertical-align: middle;\n",
       "    }\n",
       "\n",
       "    .dataframe tbody tr th {\n",
       "        vertical-align: top;\n",
       "    }\n",
       "\n",
       "    .dataframe thead th {\n",
       "        text-align: right;\n",
       "    }\n",
       "</style>\n",
       "<table border=\"1\" class=\"dataframe\">\n",
       "  <thead>\n",
       "    <tr style=\"text-align: right;\">\n",
       "      <th></th>\n",
       "      <th>MinTemp</th>\n",
       "      <th>MaxTemp</th>\n",
       "      <th>Rainfall</th>\n",
       "      <th>Evaporation</th>\n",
       "      <th>Sunshine</th>\n",
       "      <th>WindGustSpeed</th>\n",
       "      <th>WindSpeed9am</th>\n",
       "      <th>WindSpeed3pm</th>\n",
       "      <th>Humidity9am</th>\n",
       "      <th>Humidity3pm</th>\n",
       "      <th>Pressure9am</th>\n",
       "      <th>Pressure3pm</th>\n",
       "      <th>Cloud9am</th>\n",
       "      <th>Cloud3pm</th>\n",
       "      <th>Temp9am</th>\n",
       "      <th>Temp3pm</th>\n",
       "      <th>RainToday</th>\n",
       "    </tr>\n",
       "  </thead>\n",
       "  <tbody>\n",
       "    <tr>\n",
       "      <th>count</th>\n",
       "      <td>82989.000000</td>\n",
       "      <td>82989.000000</td>\n",
       "      <td>82989.000000</td>\n",
       "      <td>82989.000000</td>\n",
       "      <td>82989.000000</td>\n",
       "      <td>82989.000000</td>\n",
       "      <td>82989.000000</td>\n",
       "      <td>82989.000000</td>\n",
       "      <td>82989.000000</td>\n",
       "      <td>82989.000000</td>\n",
       "      <td>82989.000000</td>\n",
       "      <td>82989.000000</td>\n",
       "      <td>82989.000000</td>\n",
       "      <td>82989.000000</td>\n",
       "      <td>82989.000000</td>\n",
       "      <td>82989.000000</td>\n",
       "      <td>82989.0</td>\n",
       "    </tr>\n",
       "    <tr>\n",
       "      <th>mean</th>\n",
       "      <td>12.005008</td>\n",
       "      <td>24.312870</td>\n",
       "      <td>0.031507</td>\n",
       "      <td>5.652672</td>\n",
       "      <td>8.907943</td>\n",
       "      <td>38.557990</td>\n",
       "      <td>13.411054</td>\n",
       "      <td>18.147718</td>\n",
       "      <td>64.622613</td>\n",
       "      <td>46.590886</td>\n",
       "      <td>1018.424232</td>\n",
       "      <td>1015.642876</td>\n",
       "      <td>3.905855</td>\n",
       "      <td>4.005013</td>\n",
       "      <td>17.433884</td>\n",
       "      <td>22.763413</td>\n",
       "      <td>0.0</td>\n",
       "    </tr>\n",
       "    <tr>\n",
       "      <th>std</th>\n",
       "      <td>6.499165</td>\n",
       "      <td>7.014392</td>\n",
       "      <td>0.090510</td>\n",
       "      <td>2.690657</td>\n",
       "      <td>2.584452</td>\n",
       "      <td>12.215054</td>\n",
       "      <td>8.500710</td>\n",
       "      <td>8.418189</td>\n",
       "      <td>18.654949</td>\n",
       "      <td>19.366492</td>\n",
       "      <td>6.357521</td>\n",
       "      <td>6.371438</td>\n",
       "      <td>2.245767</td>\n",
       "      <td>2.093756</td>\n",
       "      <td>6.549522</td>\n",
       "      <td>6.765502</td>\n",
       "      <td>0.0</td>\n",
       "    </tr>\n",
       "    <tr>\n",
       "      <th>min</th>\n",
       "      <td>-8.200000</td>\n",
       "      <td>-2.700000</td>\n",
       "      <td>0.000000</td>\n",
       "      <td>0.000000</td>\n",
       "      <td>0.000000</td>\n",
       "      <td>7.000000</td>\n",
       "      <td>0.000000</td>\n",
       "      <td>0.000000</td>\n",
       "      <td>0.000000</td>\n",
       "      <td>0.000000</td>\n",
       "      <td>985.100000</td>\n",
       "      <td>980.200000</td>\n",
       "      <td>0.000000</td>\n",
       "      <td>0.000000</td>\n",
       "      <td>-5.300000</td>\n",
       "      <td>-3.100000</td>\n",
       "      <td>0.0</td>\n",
       "    </tr>\n",
       "    <tr>\n",
       "      <th>25%</th>\n",
       "      <td>7.300000</td>\n",
       "      <td>19.100000</td>\n",
       "      <td>0.000000</td>\n",
       "      <td>4.800000</td>\n",
       "      <td>9.300000</td>\n",
       "      <td>31.000000</td>\n",
       "      <td>7.000000</td>\n",
       "      <td>13.000000</td>\n",
       "      <td>53.000000</td>\n",
       "      <td>32.000000</td>\n",
       "      <td>1014.400000</td>\n",
       "      <td>1011.500000</td>\n",
       "      <td>2.000000</td>\n",
       "      <td>3.000000</td>\n",
       "      <td>12.800000</td>\n",
       "      <td>17.900000</td>\n",
       "      <td>0.0</td>\n",
       "    </tr>\n",
       "    <tr>\n",
       "      <th>50%</th>\n",
       "      <td>11.900000</td>\n",
       "      <td>23.900000</td>\n",
       "      <td>0.000000</td>\n",
       "      <td>5.400000</td>\n",
       "      <td>9.400000</td>\n",
       "      <td>37.000000</td>\n",
       "      <td>13.000000</td>\n",
       "      <td>17.000000</td>\n",
       "      <td>66.000000</td>\n",
       "      <td>47.000000</td>\n",
       "      <td>1018.300000</td>\n",
       "      <td>1015.500000</td>\n",
       "      <td>4.000000</td>\n",
       "      <td>4.000000</td>\n",
       "      <td>17.300000</td>\n",
       "      <td>22.300000</td>\n",
       "      <td>0.0</td>\n",
       "    </tr>\n",
       "    <tr>\n",
       "      <th>75%</th>\n",
       "      <td>16.700000</td>\n",
       "      <td>29.300000</td>\n",
       "      <td>0.000000</td>\n",
       "      <td>6.000000</td>\n",
       "      <td>9.600000</td>\n",
       "      <td>44.000000</td>\n",
       "      <td>19.000000</td>\n",
       "      <td>24.000000</td>\n",
       "      <td>77.000000</td>\n",
       "      <td>60.000000</td>\n",
       "      <td>1022.300000</td>\n",
       "      <td>1019.600000</td>\n",
       "      <td>5.000000</td>\n",
       "      <td>5.000000</td>\n",
       "      <td>22.100000</td>\n",
       "      <td>27.400000</td>\n",
       "      <td>0.0</td>\n",
       "    </tr>\n",
       "    <tr>\n",
       "      <th>max</th>\n",
       "      <td>33.900000</td>\n",
       "      <td>47.300000</td>\n",
       "      <td>0.400000</td>\n",
       "      <td>21.800000</td>\n",
       "      <td>14.500000</td>\n",
       "      <td>94.000000</td>\n",
       "      <td>54.000000</td>\n",
       "      <td>57.000000</td>\n",
       "      <td>100.000000</td>\n",
       "      <td>100.000000</td>\n",
       "      <td>1041.000000</td>\n",
       "      <td>1038.900000</td>\n",
       "      <td>9.000000</td>\n",
       "      <td>9.000000</td>\n",
       "      <td>40.200000</td>\n",
       "      <td>46.700000</td>\n",
       "      <td>0.0</td>\n",
       "    </tr>\n",
       "  </tbody>\n",
       "</table>\n",
       "</div>\n",
       "    <div class=\"colab-df-buttons\">\n",
       "\n",
       "  <div class=\"colab-df-container\">\n",
       "    <button class=\"colab-df-convert\" onclick=\"convertToInteractive('df-ea17888f-a068-409c-8b7a-b329f092df75')\"\n",
       "            title=\"Convert this dataframe to an interactive table.\"\n",
       "            style=\"display:none;\">\n",
       "\n",
       "  <svg xmlns=\"http://www.w3.org/2000/svg\" height=\"24px\" viewBox=\"0 -960 960 960\">\n",
       "    <path d=\"M120-120v-720h720v720H120Zm60-500h600v-160H180v160Zm220 220h160v-160H400v160Zm0 220h160v-160H400v160ZM180-400h160v-160H180v160Zm440 0h160v-160H620v160ZM180-180h160v-160H180v160Zm440 0h160v-160H620v160Z\"/>\n",
       "  </svg>\n",
       "    </button>\n",
       "\n",
       "  <style>\n",
       "    .colab-df-container {\n",
       "      display:flex;\n",
       "      gap: 12px;\n",
       "    }\n",
       "\n",
       "    .colab-df-convert {\n",
       "      background-color: #E8F0FE;\n",
       "      border: none;\n",
       "      border-radius: 50%;\n",
       "      cursor: pointer;\n",
       "      display: none;\n",
       "      fill: #1967D2;\n",
       "      height: 32px;\n",
       "      padding: 0 0 0 0;\n",
       "      width: 32px;\n",
       "    }\n",
       "\n",
       "    .colab-df-convert:hover {\n",
       "      background-color: #E2EBFA;\n",
       "      box-shadow: 0px 1px 2px rgba(60, 64, 67, 0.3), 0px 1px 3px 1px rgba(60, 64, 67, 0.15);\n",
       "      fill: #174EA6;\n",
       "    }\n",
       "\n",
       "    .colab-df-buttons div {\n",
       "      margin-bottom: 4px;\n",
       "    }\n",
       "\n",
       "    [theme=dark] .colab-df-convert {\n",
       "      background-color: #3B4455;\n",
       "      fill: #D2E3FC;\n",
       "    }\n",
       "\n",
       "    [theme=dark] .colab-df-convert:hover {\n",
       "      background-color: #434B5C;\n",
       "      box-shadow: 0px 1px 3px 1px rgba(0, 0, 0, 0.15);\n",
       "      filter: drop-shadow(0px 1px 2px rgba(0, 0, 0, 0.3));\n",
       "      fill: #FFFFFF;\n",
       "    }\n",
       "  </style>\n",
       "\n",
       "    <script>\n",
       "      const buttonEl =\n",
       "        document.querySelector('#df-ea17888f-a068-409c-8b7a-b329f092df75 button.colab-df-convert');\n",
       "      buttonEl.style.display =\n",
       "        google.colab.kernel.accessAllowed ? 'block' : 'none';\n",
       "\n",
       "      async function convertToInteractive(key) {\n",
       "        const element = document.querySelector('#df-ea17888f-a068-409c-8b7a-b329f092df75');\n",
       "        const dataTable =\n",
       "          await google.colab.kernel.invokeFunction('convertToInteractive',\n",
       "                                                    [key], {});\n",
       "        if (!dataTable) return;\n",
       "\n",
       "        const docLinkHtml = 'Like what you see? Visit the ' +\n",
       "          '<a target=\"_blank\" href=https://colab.research.google.com/notebooks/data_table.ipynb>data table notebook</a>'\n",
       "          + ' to learn more about interactive tables.';\n",
       "        element.innerHTML = '';\n",
       "        dataTable['output_type'] = 'display_data';\n",
       "        await google.colab.output.renderOutput(dataTable, element);\n",
       "        const docLink = document.createElement('div');\n",
       "        docLink.innerHTML = docLinkHtml;\n",
       "        element.appendChild(docLink);\n",
       "      }\n",
       "    </script>\n",
       "  </div>\n",
       "\n",
       "\n",
       "<div id=\"df-71df9e04-d7e5-43a4-8fe5-33479fb41ca0\">\n",
       "  <button class=\"colab-df-quickchart\" onclick=\"quickchart('df-71df9e04-d7e5-43a4-8fe5-33479fb41ca0')\"\n",
       "            title=\"Suggest charts\"\n",
       "            style=\"display:none;\">\n",
       "\n",
       "<svg xmlns=\"http://www.w3.org/2000/svg\" height=\"24px\"viewBox=\"0 0 24 24\"\n",
       "     width=\"24px\">\n",
       "    <g>\n",
       "        <path d=\"M19 3H5c-1.1 0-2 .9-2 2v14c0 1.1.9 2 2 2h14c1.1 0 2-.9 2-2V5c0-1.1-.9-2-2-2zM9 17H7v-7h2v7zm4 0h-2V7h2v10zm4 0h-2v-4h2v4z\"/>\n",
       "    </g>\n",
       "</svg>\n",
       "  </button>\n",
       "\n",
       "<style>\n",
       "  .colab-df-quickchart {\n",
       "      --bg-color: #E8F0FE;\n",
       "      --fill-color: #1967D2;\n",
       "      --hover-bg-color: #E2EBFA;\n",
       "      --hover-fill-color: #174EA6;\n",
       "      --disabled-fill-color: #AAA;\n",
       "      --disabled-bg-color: #DDD;\n",
       "  }\n",
       "\n",
       "  [theme=dark] .colab-df-quickchart {\n",
       "      --bg-color: #3B4455;\n",
       "      --fill-color: #D2E3FC;\n",
       "      --hover-bg-color: #434B5C;\n",
       "      --hover-fill-color: #FFFFFF;\n",
       "      --disabled-bg-color: #3B4455;\n",
       "      --disabled-fill-color: #666;\n",
       "  }\n",
       "\n",
       "  .colab-df-quickchart {\n",
       "    background-color: var(--bg-color);\n",
       "    border: none;\n",
       "    border-radius: 50%;\n",
       "    cursor: pointer;\n",
       "    display: none;\n",
       "    fill: var(--fill-color);\n",
       "    height: 32px;\n",
       "    padding: 0;\n",
       "    width: 32px;\n",
       "  }\n",
       "\n",
       "  .colab-df-quickchart:hover {\n",
       "    background-color: var(--hover-bg-color);\n",
       "    box-shadow: 0 1px 2px rgba(60, 64, 67, 0.3), 0 1px 3px 1px rgba(60, 64, 67, 0.15);\n",
       "    fill: var(--button-hover-fill-color);\n",
       "  }\n",
       "\n",
       "  .colab-df-quickchart-complete:disabled,\n",
       "  .colab-df-quickchart-complete:disabled:hover {\n",
       "    background-color: var(--disabled-bg-color);\n",
       "    fill: var(--disabled-fill-color);\n",
       "    box-shadow: none;\n",
       "  }\n",
       "\n",
       "  .colab-df-spinner {\n",
       "    border: 2px solid var(--fill-color);\n",
       "    border-color: transparent;\n",
       "    border-bottom-color: var(--fill-color);\n",
       "    animation:\n",
       "      spin 1s steps(1) infinite;\n",
       "  }\n",
       "\n",
       "  @keyframes spin {\n",
       "    0% {\n",
       "      border-color: transparent;\n",
       "      border-bottom-color: var(--fill-color);\n",
       "      border-left-color: var(--fill-color);\n",
       "    }\n",
       "    20% {\n",
       "      border-color: transparent;\n",
       "      border-left-color: var(--fill-color);\n",
       "      border-top-color: var(--fill-color);\n",
       "    }\n",
       "    30% {\n",
       "      border-color: transparent;\n",
       "      border-left-color: var(--fill-color);\n",
       "      border-top-color: var(--fill-color);\n",
       "      border-right-color: var(--fill-color);\n",
       "    }\n",
       "    40% {\n",
       "      border-color: transparent;\n",
       "      border-right-color: var(--fill-color);\n",
       "      border-top-color: var(--fill-color);\n",
       "    }\n",
       "    60% {\n",
       "      border-color: transparent;\n",
       "      border-right-color: var(--fill-color);\n",
       "    }\n",
       "    80% {\n",
       "      border-color: transparent;\n",
       "      border-right-color: var(--fill-color);\n",
       "      border-bottom-color: var(--fill-color);\n",
       "    }\n",
       "    90% {\n",
       "      border-color: transparent;\n",
       "      border-bottom-color: var(--fill-color);\n",
       "    }\n",
       "  }\n",
       "</style>\n",
       "\n",
       "  <script>\n",
       "    async function quickchart(key) {\n",
       "      const quickchartButtonEl =\n",
       "        document.querySelector('#' + key + ' button');\n",
       "      quickchartButtonEl.disabled = true;  // To prevent multiple clicks.\n",
       "      quickchartButtonEl.classList.add('colab-df-spinner');\n",
       "      try {\n",
       "        const charts = await google.colab.kernel.invokeFunction(\n",
       "            'suggestCharts', [key], {});\n",
       "      } catch (error) {\n",
       "        console.error('Error during call to suggestCharts:', error);\n",
       "      }\n",
       "      quickchartButtonEl.classList.remove('colab-df-spinner');\n",
       "      quickchartButtonEl.classList.add('colab-df-quickchart-complete');\n",
       "    }\n",
       "    (() => {\n",
       "      let quickchartButtonEl =\n",
       "        document.querySelector('#df-71df9e04-d7e5-43a4-8fe5-33479fb41ca0 button');\n",
       "      quickchartButtonEl.style.display =\n",
       "        google.colab.kernel.accessAllowed ? 'block' : 'none';\n",
       "    })();\n",
       "  </script>\n",
       "</div>\n",
       "    </div>\n",
       "  </div>\n"
      ],
      "text/plain": [
       "            MinTemp       MaxTemp      Rainfall   Evaporation      Sunshine  \\\n",
       "count  82989.000000  82989.000000  82989.000000  82989.000000  82989.000000   \n",
       "mean      12.005008     24.312870      0.031507      5.652672      8.907943   \n",
       "std        6.499165      7.014392      0.090510      2.690657      2.584452   \n",
       "min       -8.200000     -2.700000      0.000000      0.000000      0.000000   \n",
       "25%        7.300000     19.100000      0.000000      4.800000      9.300000   \n",
       "50%       11.900000     23.900000      0.000000      5.400000      9.400000   \n",
       "75%       16.700000     29.300000      0.000000      6.000000      9.600000   \n",
       "max       33.900000     47.300000      0.400000     21.800000     14.500000   \n",
       "\n",
       "       WindGustSpeed  WindSpeed9am  WindSpeed3pm   Humidity9am   Humidity3pm  \\\n",
       "count   82989.000000  82989.000000  82989.000000  82989.000000  82989.000000   \n",
       "mean       38.557990     13.411054     18.147718     64.622613     46.590886   \n",
       "std        12.215054      8.500710      8.418189     18.654949     19.366492   \n",
       "min         7.000000      0.000000      0.000000      0.000000      0.000000   \n",
       "25%        31.000000      7.000000     13.000000     53.000000     32.000000   \n",
       "50%        37.000000     13.000000     17.000000     66.000000     47.000000   \n",
       "75%        44.000000     19.000000     24.000000     77.000000     60.000000   \n",
       "max        94.000000     54.000000     57.000000    100.000000    100.000000   \n",
       "\n",
       "        Pressure9am   Pressure3pm      Cloud9am      Cloud3pm       Temp9am  \\\n",
       "count  82989.000000  82989.000000  82989.000000  82989.000000  82989.000000   \n",
       "mean    1018.424232   1015.642876      3.905855      4.005013     17.433884   \n",
       "std        6.357521      6.371438      2.245767      2.093756      6.549522   \n",
       "min      985.100000    980.200000      0.000000      0.000000     -5.300000   \n",
       "25%     1014.400000   1011.500000      2.000000      3.000000     12.800000   \n",
       "50%     1018.300000   1015.500000      4.000000      4.000000     17.300000   \n",
       "75%     1022.300000   1019.600000      5.000000      5.000000     22.100000   \n",
       "max     1041.000000   1038.900000      9.000000      9.000000     40.200000   \n",
       "\n",
       "            Temp3pm  RainToday  \n",
       "count  82989.000000    82989.0  \n",
       "mean      22.763413        0.0  \n",
       "std        6.765502        0.0  \n",
       "min       -3.100000        0.0  \n",
       "25%       17.900000        0.0  \n",
       "50%       22.300000        0.0  \n",
       "75%       27.400000        0.0  \n",
       "max       46.700000        0.0  "
      ]
     },
     "execution_count": 28,
     "metadata": {},
     "output_type": "execute_result"
    }
   ],
   "source": [
    "from sklearn.model_selection import train_test_split\n",
    "\n",
    "X_train, X_test, y_train, y_test = train_test_split(X, y, test_size = 0.2, random_state = 42)\n",
    "X_train.describe()"
   ]
  },
  {
   "cell_type": "markdown",
   "metadata": {
    "id": "sE6wHELDnip1"
   },
   "source": [
    "Для нормализации будем использовать `MinMaxScaler` модуля `sklearn.preprocessing`.\n",
    "\n",
    "**Вам необходимо \"обучить\" (`fit`) scaler на `X_train` и использовать его на `X_test` (`transform`).** \\\\\n",
    "**Примечание:** выходом `MinMaxScaler` является `np.array`. Чтобы в дальнейшем работать с выборкой, после масштабирования необходимо обратно перевести её в `pd.DataFrame`."
   ]
  },
  {
   "cell_type": "code",
   "execution_count": null,
   "metadata": {
    "id": "QY2b8jXLnS6L"
   },
   "outputs": [],
   "source": [
    "# YOUR CODE HERE:\n",
    "###########################\n",
    "### ╰( ͡° ͜ʖ ͡° )つ──☆*:・ﾟ\n",
    "###########################\n",
    "# Output: `X_train`, `X_test`: pd.DataFrame type."
   ]
  },
  {
   "cell_type": "markdown",
   "metadata": {
    "id": "wTOvRdhvo0WH"
   },
   "source": [
    "### Задача 2 (5 баллов): Классификация"
   ]
  },
  {
   "cell_type": "markdown",
   "metadata": {
    "id": "6BxwuaSTo7My"
   },
   "source": [
    "\n",
    "\n",
    "* Вам необходимо обучить обработанный датасет с помощью логистической регрессии.\n",
    "* Вы можете пользоваться библиотекой `sklearn`\n",
    "* Проведите классификацию с L1 и L2-регуляризацией. Какие признаки регуляризация lasso посчитала неинформативными?\n",
    "* Проведите классификацию с регуляризацией [elasticnet](https://en.wikipedia.org/wiki/Elastic_net_regularization). Для этого воспользуйтесь поиском по сетке гиперпараметров (`GridSearchCV` модуля `sklearn.model_selection`). Пространство поиска определите константой `C = [1, 2, 5, 10, 100]` и значением `l1_ratio = [0.0, 0.1, 0.2, 0.3, 0.4, 0.5, 0.6, 0.7, 0.8, 0.9, 1.0]`.\n",
    "* Сделайте выводы по полученым результатам\n",
    "\n",
    "\n"
   ]
  },
  {
   "cell_type": "code",
   "execution_count": null,
   "metadata": {
    "id": "uuuykijirHP7"
   },
   "outputs": [],
   "source": [
    "# YOUR CODE HERE:\n",
    "###########################\n",
    "### ╰( ͡° ͜ʖ ͡° )つ──☆*:・ﾟ\n",
    "###########################"
   ]
  },
  {
   "cell_type": "markdown",
   "metadata": {
    "id": "Bgia_yGqrJ1-"
   },
   "source": [
    "### Задача 3* (2 балла): Категориальные признаки"
   ]
  },
  {
   "cell_type": "markdown",
   "metadata": {
    "id": "wq3BuKtJrcZo"
   },
   "source": [
    "* В ходе анализа датасета было сделано несколько упрощений:\n",
    "    * Категориальные признаки были опущены (`df --> df_numerical`);\n",
    "    * Выбросы были опущены (`df_numerical --> df_num_no_outliers`).\n",
    "* Необходимо провести обработку категориальных признаков.\n",
    "* Протестировать качество логистической регрессии и подобрать гиперпараметры на различных вариантах:\n",
    "    * С категориальными признаками и без учета выбросов;\n",
    "    * Без категориальных признаков, с учетом выбросов;\n",
    "    * С категориальными признаками, с учетом выбросов.\n",
    "* Поощеряется изобретательность. Возможно, какие-то категориальные/численные признаки покажутся менее инфомативными. \\\\\n",
    "\n",
    "\\\\\n",
    "\n",
    "\\\\\n",
    "\n",
    "* P.S. Не расстраивайтесь, если выдвигаемые гипотезы не дадут прибавки в качестве. У автора не хватило времени предложить более комплексный датасет 😞. Важен сам пайплайн проверки выдвигаемых гипотез)"
   ]
  },
  {
   "cell_type": "code",
   "execution_count": null,
   "metadata": {
    "id": "VZXSl5bJcvL1"
   },
   "outputs": [],
   "source": [
    "# YOUR CODE HERE:\n",
    "###########################\n",
    "### ╰( ͡° ͜ʖ ͡° )つ──☆*:・ﾟ\n",
    "###########################"
   ]
  }
 ],
 "metadata": {
  "colab": {
   "authorship_tag": "ABX9TyMz25G/yWt1ftT5r5q8bWoj",
   "provenance": [],
   "toc_visible": true
  },
  "kernelspec": {
   "display_name": "Python 3",
   "name": "python3"
  },
  "language_info": {
   "name": "python"
  }
 },
 "nbformat": 4,
 "nbformat_minor": 0
}
