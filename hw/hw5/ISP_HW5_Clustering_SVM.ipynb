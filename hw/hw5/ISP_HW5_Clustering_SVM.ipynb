{
 "cells": [
  {
   "cell_type": "markdown",
   "metadata": {
    "id": "khtV9YqTk7Ok"
   },
   "source": [
    "# Кластеризация и SVM\n",
    "\n",
    "## Ф.И.О: _________"
   ]
  },
  {
   "cell_type": "code",
   "execution_count": null,
   "metadata": {
    "id": "8L_59NYF4jKA"
   },
   "outputs": [],
   "source": [
    "import numpy as np\n",
    "from sklearn.cluster import KMeans\n",
    "import matplotlib.pyplot as plt\n",
    "from sklearn.svm import SVC\n",
    "from sklearn.metrics import adjusted_rand_score, accuracy_score\n",
    "from sklearn.datasets import load_iris, make_classification, make_moons\n",
    "from cvxopt import matrix, solvers"
   ]
  },
  {
   "cell_type": "markdown",
   "metadata": {
    "id": "xXF42EEakzXd"
   },
   "source": [
    "### Task 1: Реализация алгортим K-Means (6 points)"
   ]
  },
  {
   "cell_type": "markdown",
   "metadata": {
    "id": "ao3-5_YelBp2"
   },
   "source": [
    "#### 1.1. Реализуйте алгоритм K-means без использования библиотек, реализующих данный метод (например, библиотеки sklearn) (3 points)"
   ]
  },
  {
   "cell_type": "code",
   "execution_count": null,
   "metadata": {
    "id": "DvaK37Lf4tEX"
   },
   "outputs": [],
   "source": [
    "def k_means(X, k, max_iters=3, tol=1e-4):\n",
    "    \"\"\" Реализуйте алгоритм K-Means \"\"\"\n",
    "    np.random.seed(42)\n",
    "    # Your code here\n",
    "    pass\n",
    "\n",
    "# Automatic Checker\n",
    "def check_k_means():\n",
    "    iris = load_iris()\n",
    "    X = iris.data\n",
    "    y_true = iris.target\n",
    "\n",
    "    labels_custom, centroids_custom = k_means(X, k=3)\n",
    "    kmeans_sklearn = KMeans(n_clusters=3, random_state=42, n_init=10).fit(X)\n",
    "    labels_sklearn = kmeans_sklearn.labels_\n",
    "\n",
    "    score_custom = adjusted_rand_score(y_true, labels_custom)\n",
    "    score_sklearn = adjusted_rand_score(y_true, labels_sklearn)\n",
    "    print(score_custom)\n",
    "    print(score_sklearn)\n",
    "\n",
    "    plt.figure(figsize=(12, 5))\n",
    "\n",
    "    plt.subplot(1, 2, 1)\n",
    "    plt.scatter(X[:, 0], X[:, 1], c=labels_custom, cmap='viridis', marker='o')\n",
    "    plt.scatter(centroids_custom[:, 0], centroids_custom[:, 1], s=300, c='red', marker='X')\n",
    "    plt.title('K-Means Clustering')\n",
    "    plt.xlabel('Feature 1')\n",
    "    plt.ylabel('Feature 2')\n",
    "\n",
    "    assert labels_custom is not None, \"Function should return labels.\"\n",
    "    assert len(labels_custom) == len(X), \"Should return labels for all points.\"\n",
    "    assert score_custom > 0.7, \"Clustering should achieve a higher score.\"\n",
    "    print(f\"Task 1.1 Passed! Adjusted Rand Score: {score_custom:.2f}\")"
   ]
  },
  {
   "cell_type": "code",
   "execution_count": null,
   "metadata": {
    "id": "K6TbnDso63pd"
   },
   "outputs": [],
   "source": [
    "check_k_means()"
   ]
  },
  {
   "cell_type": "markdown",
   "metadata": {
    "id": "-JJQD6GjlqJp"
   },
   "source": [
    "#### 1.2. Реализуйте алгоритм K-means++ без использования библиотек, реализующих данный метод (например, библиотеки sklearn) (3 points)"
   ]
  },
  {
   "cell_type": "code",
   "execution_count": null,
   "metadata": {
    "id": "Qd5ddmI1ucPK"
   },
   "outputs": [],
   "source": [
    "def initialize_plus_plus(X, k):\n",
    "    \"\"\" Инициализируйте центры кластеров \"\"\"\n",
    "    np.random.seed(42)\n",
    "    # Your code here\n",
    "    pass\n",
    "\n",
    "def k_means_plus_plus(X, k, max_iters=100, tol=1e-4):\n",
    "    \"\"\" Реализуйте алгоритм K-means++ \"\"\"\n",
    "    centroids = initialize_plus_plus(X, k)\n",
    "    # Your code here\n",
    "    pass\n",
    "\n",
    "# Automatic Checker\n",
    "def check_k_means_plus_plus():\n",
    "    iris = load_iris()\n",
    "    X = iris.data\n",
    "    y_true = iris.target\n",
    "\n",
    "    labels_custom, centroids_custom = k_means_plus_plus(X, k=3)\n",
    "    kmeans_sklearn = KMeans(n_clusters=3, init='k-means++', random_state=42, n_init=10).fit(X)\n",
    "    labels_sklearn = kmeans_sklearn.labels_\n",
    "\n",
    "    score_custom = adjusted_rand_score(y_true, labels_custom)\n",
    "    score_sklearn = adjusted_rand_score(y_true, labels_sklearn)\n",
    "    print(score_custom)\n",
    "    print(score_sklearn)\n",
    "\n",
    "    plt.figure(figsize=(12, 5))\n",
    "\n",
    "    plt.subplot(1, 2, 1)\n",
    "    plt.scatter(X[:, 0], X[:, 1], c=labels_custom, cmap='viridis', marker='o')\n",
    "    plt.scatter(centroids_custom[:, 0], centroids_custom[:, 1], s=300, c='red', marker='X')\n",
    "    plt.title('K-Means++ Clustering')\n",
    "    plt.xlabel('Feature 1')\n",
    "    plt.ylabel('Feature 2')\n",
    "\n",
    "    assert labels_custom is not None, \"Function should return labels.\"\n",
    "    assert len(labels_custom) == len(X), \"Should return labels for all points.\"\n",
    "    assert score_custom > 0.7, \"Clustering should achieve a higher score.\"\n",
    "    print(f\"Task 1.2 Passed! Adjusted Rand Score: {score_custom:.2f}\")\n"
   ]
  },
  {
   "cell_type": "code",
   "execution_count": null,
   "metadata": {
    "id": "PU7rw-iO4_Fl"
   },
   "outputs": [],
   "source": [
    "check_k_means_plus_plus()"
   ]
  },
  {
   "cell_type": "markdown",
   "metadata": {
    "id": "7k5IBJABlyeX"
   },
   "source": [
    "### Task 2: Оценка алгоритма DBSCAN (4 points)"
   ]
  },
  {
   "cell_type": "markdown",
   "metadata": {
    "id": "RDo2-ymoWf4F"
   },
   "source": [
    "Вы анализируете движение такси в городе, чтобы определить популярные зоны посадки. У Вас есть набор данных, представляющий места посадки такси.\n",
    "\n",
    "```\n",
    "data_points = [\n",
    "    (1.2, 3.1), (2.5, 3.3), (1.8, 2.9), (8.2, 7.5),\n",
    "    (8.1, 7.7), (25.3, 80.2), (2.0, 3.0), (3.0, 3.5),\n",
    "    (1.1, 1.2), (90.0, 91.2), (1.5, 3.2), (8.0, 7.6),\n",
    "    (2.2, 3.1), (7.9, 7.8), (1.3, 3.0)\n",
    "]\n",
    "```\n",
    "\n",
    "Каждая точка представляет посадку такси с координатами (x, y) в километрах от центра города.\n",
    "\n",
    "С помощью алгортима DBSCAN сгруппируйте эти поездки на такси, чтобы определить зоны с высокой плотностью посадки (Выберите максимальное расстояние между точками = 1.5 и минимальное число точек в группе = 3), а какие зоны посадки являются случайными выбросами.\n",
    "\n",
    "Для решения этой задачи не используйте библиотеки с реализацией DBSCAN (например, библиотеки sklearn)"
   ]
  },
  {
   "cell_type": "code",
   "execution_count": null,
   "metadata": {
    "id": "6PiiM0ekyFR4"
   },
   "outputs": [],
   "source": [
    "# Your code here"
   ]
  },
  {
   "cell_type": "markdown",
   "metadata": {
    "id": "-o9L0_b5l9lv"
   },
   "source": [
    "### Task 3 Оценка алгоритма SVM (4 points)"
   ]
  },
  {
   "cell_type": "markdown",
   "metadata": {
    "id": "Wkak-LZD6mLX"
   },
   "source": [
    "Рассмотрим набор данных в 2D-пространстве, где первые два значения - это координаты точек, а третье значение - метка класса:\n",
    "\n",
    "```\n",
    "data_points = [\n",
    "    (-4, 2, 1), (-1, -1, -1), (0, -2, -1), (1, -2, -1),\n",
    "    (2, 3, 1), (3, 3, 1), (4, 4, 1), (-4, -3, -1), (-5, -2, -1),\n",
    "    (5, 2, 1), (6, 1, 1), (-6, -1, -1), (-7, -3, -1), (7, 3, 1),\n",
    "    (8, 4, 1), (-8, -5, -1), (9, 5, 1), (-9, -4, -1), (10, 6, 1),\n",
    "]\n",
    "```\n",
    "\n",
    "1. Определите уравнение прямой, которая наилучшим образом разделяет два класса.\n",
    "2. Определите величину зазора (margin) и вектор, ортогональный разделяющей границе\n",
    "3. Определите, какие точки являются опорными векторами.\n"
   ]
  },
  {
   "cell_type": "code",
   "execution_count": null,
   "metadata": {
    "id": "tVzDDLTzBOYL"
   },
   "outputs": [],
   "source": [
    "# Your code here"
   ]
  },
  {
   "cell_type": "markdown",
   "metadata": {
    "id": "gr1V4M2ImF98"
   },
   "source": [
    "### Task 4 Реализация алгоритма SVM (6 points)"
   ]
  },
  {
   "cell_type": "markdown",
   "metadata": {
    "id": "S3Y-ScCPmW6_"
   },
   "source": [
    "#### 4.1. Реализуйте алгоритм Linear SVM без использования библиотек, реализующих данный метод (например, библиотеки sklearn) (3 points)"
   ]
  },
  {
   "cell_type": "code",
   "execution_count": null,
   "metadata": {
    "id": "zqjE2l5Hjb0f"
   },
   "outputs": [],
   "source": [
    "def linear_svm(X, y, learning_rate=0.001, lambda_param=0.01, n_iters=1000):\n",
    "    \"\"\" Реализуйте Linear SVM \"\"\"\n",
    "    np.random.seed(42)\n",
    "    # Your code here\n",
    "    pass\n",
    "\n",
    "def predict_svm(X, weights, bias):\n",
    "    return np.sign(np.dot(X, weights) - bias)\n",
    "\n",
    "# Automatic Checker\n",
    "def check_linear_svm():\n",
    "    X, y = make_classification(n_samples=1000, n_features=4, n_informative=2, n_redundant=0, random_state=42)\n",
    "    y = np.where(y == 0, -1, 1)\n",
    "\n",
    "    X = (X - np.mean(X, axis=0)) / np.std(X, axis=0)\n",
    "\n",
    "    weights, bias = linear_svm(X, y)\n",
    "    y_pred = predict_svm(X, weights, bias)\n",
    "\n",
    "    svm_sklearn = SVC(kernel='linear', random_state=42)\n",
    "    svm_sklearn.fit(X, y)\n",
    "    y_pred_sklearn = svm_sklearn.predict(X)\n",
    "\n",
    "    accuracy = accuracy_score(y, y_pred)\n",
    "    accuracy_sklearn = accuracy_score(y, y_pred_sklearn)\n",
    "\n",
    "    assert accuracy > 0.85, \"Accuracy should be higher\"\n",
    "    print(f\"Task 4.1 Passed! Accuracy: {accuracy:.2f}\")"
   ]
  },
  {
   "cell_type": "code",
   "execution_count": null,
   "metadata": {
    "id": "bvTDOjTwjem9"
   },
   "outputs": [],
   "source": [
    "check_linear_svm()"
   ]
  },
  {
   "cell_type": "markdown",
   "metadata": {
    "id": "1U8uJ4U7moBB"
   },
   "source": [
    "#### Task 4.2: Реализуйте Kernel SVM с использованием RBF ядра без использования библиотек, реализующих данный метод (например, библиотеки sklearn) (3 points)"
   ]
  },
  {
   "cell_type": "code",
   "execution_count": null,
   "metadata": {
    "id": "XNk1hSSSkDNg"
   },
   "outputs": [],
   "source": [
    "def rbf_kernel(X, Y=None, gamma=0.1):\n",
    "    if Y is None:\n",
    "        Y = X\n",
    "    \"\"\" Определите RBF kernel \"\"\"\n",
    "    # Your code here\n",
    "    pass\n",
    "\n",
    "def kernel_svm(X, y, gamma=0.1, learning_rate=0.001, lambda_param=0.01, n_iters=1000):\n",
    "    \"\"\" Реализуйте Kernel SVM \"\"\"\n",
    "    np.random.seed(42)\n",
    "    # Your code here\n",
    "    pass\n",
    "\n",
    "def predict_kernel_svm(X, X_train, y_train, alpha, gamma=0.1):\n",
    "    K = rbf_kernel(X, X_train, gamma)\n",
    "    return np.sign(np.dot(K, alpha * y_train))\n",
    "\n",
    "# Automatic Checker\n",
    "def check_kernel_svm():\n",
    "    X, y = make_moons(n_samples=50, noise=0.01, random_state=42)\n",
    "    y = np.where(y == 0, -1, 1)\n",
    "\n",
    "    alpha = kernel_svm(X, y)\n",
    "    y_pred = predict_kernel_svm(X, X, y, alpha)\n",
    "\n",
    "    svm_sklearn = SVC(kernel='rbf', gamma=0.1, random_state=42)\n",
    "    svm_sklearn.fit(X, y)\n",
    "    y_pred_sklearn = svm_sklearn.predict(X)\n",
    "\n",
    "    accuracy = accuracy_score(y, y_pred)\n",
    "    accuracy_sklearn = accuracy_score(y, y_pred_sklearn)\n",
    "\n",
    "    print(accuracy_sklearn)\n",
    "\n",
    "    assert accuracy > 0.8, \"Accuracy should be higher\"\n",
    "    print(f\"Task 4.2 Passed! Accuracy: {accuracy:.2f}\")"
   ]
  },
  {
   "cell_type": "code",
   "execution_count": null,
   "metadata": {
    "id": "nlTKl0_NlT-r"
   },
   "outputs": [],
   "source": [
    "check_kernel_svm()"
   ]
  }
 ],
 "metadata": {
  "colab": {
   "collapsed_sections": [
    "khtV9YqTk7Ok",
    "xXF42EEakzXd",
    "ao3-5_YelBp2",
    "-JJQD6GjlqJp",
    "7k5IBJABlyeX",
    "-o9L0_b5l9lv",
    "gr1V4M2ImF98",
    "S3Y-ScCPmW6_",
    "1U8uJ4U7moBB"
   ],
   "provenance": []
  },
  "kernelspec": {
   "display_name": "Python 3 (ipykernel)",
   "language": "python",
   "name": "python3"
  },
  "language_info": {
   "codemirror_mode": {
    "name": "ipython",
    "version": 3
   },
   "file_extension": ".py",
   "mimetype": "text/x-python",
   "name": "python",
   "nbconvert_exporter": "python",
   "pygments_lexer": "ipython3",
   "version": "3.8.10"
  }
 },
 "nbformat": 4,
 "nbformat_minor": 1
}
